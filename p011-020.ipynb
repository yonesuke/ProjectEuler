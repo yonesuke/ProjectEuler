{
  "cells": [
    {
      "cell_type": "markdown",
      "source": [
        "## Problem 11\n",
        "Largest product in a grid"
      ],
      "metadata": {
        "collapsed": false,
        "outputHidden": false,
        "inputHidden": false
      }
    },
    {
      "cell_type": "code",
      "source": [
        "import numpy as np\n",
        "import itertools\n",
        "from tqdm import tqdm\n",
        "import sympy"
      ],
      "outputs": [],
      "execution_count": 7,
      "metadata": {}
    },
    {
      "cell_type": "code",
      "source": [
        "a = np.loadtxt(\"p11.txt\",dtype=np.int64)\n",
        "N = 20"
      ],
      "outputs": [],
      "execution_count": 8,
      "metadata": {}
    },
    {
      "cell_type": "code",
      "source": [
        "greatest_product=0\n",
        "for i,j in itertools.product(range(N),range(N)):\n",
        "    #down\n",
        "    product = 1\n",
        "    for k in range(4):\n",
        "        product *= a[i][(j+k)%N]\n",
        "    if product > greatest_product:\n",
        "        greatest_product = product\n",
        "    #left\n",
        "    product = 1\n",
        "    for k in range(4):\n",
        "        product *= a[(i+k)%N][j]\n",
        "    if product > greatest_product:\n",
        "        greatest_product = product\n",
        "    #diagonally_right\n",
        "    product = 1\n",
        "    for k in range(4):\n",
        "        product *= a[(i+k)%N][(j+k)%N]\n",
        "    if product > greatest_product:\n",
        "        greatest_product = product\n",
        "    #diagonally_left\n",
        "    product = 1\n",
        "    for k in range(4):\n",
        "        product *= a[(i-k)%N][(j+k)%N]\n",
        "    if product > greatest_product:\n",
        "        greatest_product = product\n",
        "    "
      ],
      "outputs": [],
      "execution_count": 9,
      "metadata": {
        "collapsed": false,
        "outputHidden": false,
        "inputHidden": false
      }
    },
    {
      "cell_type": "code",
      "source": [
        "greatest_product"
      ],
      "outputs": [
        {
          "output_type": "execute_result",
          "execution_count": 10,
          "data": {
            "text/plain": [
              "70600674"
            ]
          },
          "metadata": {}
        }
      ],
      "execution_count": 10,
      "metadata": {
        "collapsed": false,
        "outputHidden": false,
        "inputHidden": false
      }
    },
    {
      "cell_type": "markdown",
      "source": [
        "## Problem 12\n",
        "Highly divisible triangular number"
      ],
      "metadata": {
        "collapsed": false,
        "outputHidden": false,
        "inputHidden": false
      }
    },
    {
      "cell_type": "code",
      "source": [
        "def divisible_num(n):\n",
        "    num=1\n",
        "    hoge=sympy.factorint(n)\n",
        "    for i in hoge:\n",
        "        num *= (hoge[i]+1)\n",
        "    return num"
      ],
      "outputs": [],
      "execution_count": 11,
      "metadata": {
        "collapsed": false,
        "outputHidden": false,
        "inputHidden": false
      }
    },
    {
      "cell_type": "code",
      "source": [
        "N=0\n",
        "for i in range(1,1000000):\n",
        "    N+=i\n",
        "    #print(N)\n",
        "    if divisible_num(N)>500:\n",
        "        break\n",
        "print(N)"
      ],
      "outputs": [
        {
          "output_type": "stream",
          "name": "stdout",
          "text": [
            "76576500\n"
          ]
        }
      ],
      "execution_count": 12,
      "metadata": {}
    },
    {
      "cell_type": "markdown",
      "source": [
        "## Problem 13\n",
        "Large sum"
      ],
      "metadata": {
        "collapsed": false,
        "outputHidden": false,
        "inputHidden": false
      }
    },
    {
      "cell_type": "code",
      "source": [
        "a = np.loadtxt(\"p13.txt\",dtype=str)"
      ],
      "outputs": [],
      "execution_count": 13,
      "metadata": {}
    },
    {
      "cell_type": "code",
      "source": [
        "ans = 0\n",
        "for i in range(100):\n",
        "    ans += int(a[i])\n",
        "int(str(ans)[:10])"
      ],
      "outputs": [
        {
          "output_type": "execute_result",
          "execution_count": 14,
          "data": {
            "text/plain": [
              "5537376230"
            ]
          },
          "metadata": {}
        }
      ],
      "execution_count": 14,
      "metadata": {
        "collapsed": false,
        "outputHidden": false,
        "inputHidden": false
      }
    },
    {
      "cell_type": "markdown",
      "source": [
        "## Problem 14\n",
        "Longest Collatz sequence"
      ],
      "metadata": {
        "collapsed": false,
        "outputHidden": false,
        "inputHidden": false
      }
    },
    {
      "cell_type": "code",
      "source": [
        "def seq(n):\n",
        "    if n%2==0:\n",
        "        return n/2\n",
        "    else:\n",
        "        return 3*n+1"
      ],
      "outputs": [],
      "execution_count": 15,
      "metadata": {}
    },
    {
      "cell_type": "code",
      "source": [
        "def collatz(N):\n",
        "    num = 1\n",
        "    while True:\n",
        "        N=seq(N)\n",
        "        num+=1\n",
        "        if N==1:\n",
        "            break\n",
        "    return num"
      ],
      "outputs": [],
      "execution_count": 16,
      "metadata": {
        "collapsed": false,
        "outputHidden": false,
        "inputHidden": false
      }
    },
    {
      "cell_type": "code",
      "source": [
        "max_num=0\n",
        "hoge=[]\n",
        "for N in tqdm(range(1,10**6,2)):\n",
        "    num=collatz(N)\n",
        "    if num>max_num:\n",
        "        max_num=num\n",
        "        ans=N\n",
        "if ans*2<10**6:\n",
        "    ans*=2\n",
        "print(ans)"
      ],
      "outputs": [
        {
          "output_type": "stream",
          "name": "stderr",
          "text": [
            "100%|██████████| 500000/500000 [00:21<00:00, 22802.29it/s]\n"
          ]
        },
        {
          "output_type": "stream",
          "name": "stdout",
          "text": [
            "837799\n"
          ]
        }
      ],
      "execution_count": 17,
      "metadata": {
        "collapsed": false,
        "outputHidden": false,
        "inputHidden": false
      }
    },
    {
      "cell_type": "markdown",
      "source": [
        "## Problem 16\n",
        "Power digit sum"
      ],
      "metadata": {
        "collapsed": false,
        "outputHidden": false,
        "inputHidden": false
      }
    },
    {
      "cell_type": "code",
      "source": [
        "hoge = str(2**1000)\n",
        "ans = 0\n",
        "for i in hoge:\n",
        "    ans += int(i)\n",
        "print(ans)"
      ],
      "outputs": [
        {
          "output_type": "stream",
          "name": "stdout",
          "text": [
            "1366\n"
          ]
        }
      ],
      "execution_count": 18,
      "metadata": {}
    },
    {
      "cell_type": "markdown",
      "source": [
        "## Problem 17\n",
        "Number letter counts"
      ],
      "metadata": {
        "collapsed": false,
        "outputHidden": false,
        "inputHidden": false
      }
    },
    {
      "cell_type": "code",
      "source": [
        "#one,two,three,four,five,six,seven,eight,nine\n",
        "num_letter = {1:3,2:3,3:5,4:4,5:4,6:3,7:5,8:5,9:4}\n",
        "#eleven,twelve,thirteen,fourteen,fifteen,sixteen,seventeen,eighteen,nineteen\n",
        "num_letter.update({11:6,12:6,13:8,14:8,15:7,16:7,17:9,18:8,19:8})\n",
        "#ten,twenty,thirty,forty,fifty,sixty,seventy,eighty,ninety\n",
        "num_letter.update({10:3,20:6,30:6,40:5,50:5,60:5,70:7,80:6,90:6})\n",
        "#hundred,thousand,and\n",
        "num_letter.update({100:7,1000:8,\"and\":3})"
      ],
      "outputs": [],
      "execution_count": 51,
      "metadata": {}
    },
    {
      "cell_type": "code",
      "source": [
        "ans = 0\n",
        "for i in range(1,20):\n",
        "    ans += num_letter[i]\n",
        "for i in range(20,100):\n",
        "    if i%10==0:\n",
        "        ans += num_letter[i]\n",
        "    else:\n",
        "        ans += (num_letter[i-i%10]+num_letter[i%10])\n",
        "for i in range(100,1000):\n",
        "    ans += (num_letter[i//100]+num_letter[100])\n",
        "    mod = i%100\n",
        "    if mod!=0:\n",
        "        ans += num_letter[\"and\"]\n",
        "        if mod<20:\n",
        "            ans += num_letter[mod]\n",
        "        else:\n",
        "            if mod%10==0:\n",
        "                ans += num_letter[mod]\n",
        "            else:\n",
        "                ans += (num_letter[mod-mod%10]+num_letter[mod%10])\n",
        "ans += (num_letter[1]+num_letter[1000])\n",
        "ans"
      ],
      "outputs": [
        {
          "output_type": "execute_result",
          "execution_count": 52,
          "data": {
            "text/plain": [
              "21124"
            ]
          },
          "metadata": {}
        }
      ],
      "execution_count": 52,
      "metadata": {
        "collapsed": false,
        "outputHidden": false,
        "inputHidden": false
      }
    },
    {
      "cell_type": "markdown",
      "source": [
        "## Problem 18\n",
        "Maximum path sum I"
      ],
      "metadata": {
        "collapsed": false,
        "outputHidden": false,
        "inputHidden": false
      }
    },
    {
      "cell_type": "code",
      "source": [
        "with open(\"p18.txt\") as f:\n",
        "    l = f.readlines()\n",
        "triangle = []\n",
        "for line in l:\n",
        "    line = line.split()\n",
        "    a = [int(i) for i in line]\n",
        "    triangle.append(a)\n",
        "triangle    "
      ],
      "outputs": [
        {
          "output_type": "execute_result",
          "execution_count": 117,
          "data": {
            "text/plain": [
              "[[75],\n",
              " [95, 64],\n",
              " [17, 47, 82],\n",
              " [18, 35, 87, 10],\n",
              " [20, 4, 82, 47, 65],\n",
              " [19, 1, 23, 75, 3, 34],\n",
              " [88, 2, 77, 73, 7, 63, 67],\n",
              " [99, 65, 4, 28, 6, 16, 70, 92],\n",
              " [41, 41, 26, 56, 83, 40, 80, 70, 33],\n",
              " [41, 48, 72, 33, 47, 32, 37, 16, 94, 29],\n",
              " [53, 71, 44, 65, 25, 43, 91, 52, 97, 51, 14],\n",
              " [70, 11, 33, 28, 77, 73, 17, 78, 39, 68, 17, 57],\n",
              " [91, 71, 52, 38, 17, 14, 91, 43, 58, 50, 27, 29, 48],\n",
              " [63, 66, 4, 68, 89, 53, 67, 30, 73, 16, 69, 87, 40, 31],\n",
              " [4, 62, 98, 27, 23, 9, 70, 98, 73, 93, 38, 53, 60, 4, 23]]"
            ]
          },
          "metadata": {}
        }
      ],
      "execution_count": 117,
      "metadata": {}
    },
    {
      "cell_type": "code",
      "source": [
        "dp = [[0 for _ in range(15)] for _ in range(15)]"
      ],
      "outputs": [],
      "execution_count": 118,
      "metadata": {
        "collapsed": false,
        "outputHidden": false,
        "inputHidden": false
      }
    },
    {
      "cell_type": "code",
      "source": [
        "dp[0][0]=triangle[0][0]\n",
        "for i in range(1,15):\n",
        "    for j in range(i+1):\n",
        "        dp[i][j]=dp[i][j]=dp[i-1][j]+triangle[i][j] if dp[i-1][j]>dp[i-1][j-1] else dp[i-1][j-1]+triangle[i][j]\n",
        "#dp\n",
        "max(max(dp))"
      ],
      "outputs": [
        {
          "output_type": "execute_result",
          "execution_count": 119,
          "data": {
            "text/plain": [
              "1074"
            ]
          },
          "metadata": {}
        }
      ],
      "execution_count": 119,
      "metadata": {
        "collapsed": false,
        "outputHidden": false,
        "inputHidden": false
      }
    },
    {
      "cell_type": "markdown",
      "source": [
        "## Problem 19\n",
        "Counting Sundays"
      ],
      "metadata": {
        "collapsed": false,
        "outputHidden": false,
        "inputHidden": false
      }
    },
    {
      "cell_type": "code",
      "source": [
        "#1,2,3,4,5,6,7,8,9,10,11,12\n",
        "months=[3,0,3,2,3,2,3,3,2,3,2,3]"
      ],
      "outputs": [],
      "execution_count": 3,
      "metadata": {}
    },
    {
      "cell_type": "code",
      "source": [
        "week=1\n",
        "tgis=0\n",
        "for _ in range(1901,2000):\n",
        "    for month in months:\n",
        "        if week==0:\n",
        "            tgis+=1\n",
        "        week+=month\n",
        "        week=week%7"
      ],
      "outputs": [],
      "execution_count": 4,
      "metadata": {
        "collapsed": false,
        "outputHidden": false,
        "inputHidden": false
      }
    },
    {
      "cell_type": "code",
      "source": [
        "months[2]=1\n",
        "for month in months:\n",
        "    if week==0:\n",
        "        tgis+=1\n",
        "    week+=month\n",
        "    week=week%7"
      ],
      "outputs": [],
      "execution_count": 5,
      "metadata": {
        "collapsed": false,
        "outputHidden": false,
        "inputHidden": false
      }
    },
    {
      "cell_type": "code",
      "source": [
        "print(tgis)"
      ],
      "outputs": [
        {
          "output_type": "stream",
          "name": "stdout",
          "text": [
            "171\n"
          ]
        }
      ],
      "execution_count": 6,
      "metadata": {
        "collapsed": false,
        "outputHidden": false,
        "inputHidden": false
      }
    },
    {
      "cell_type": "markdown",
      "source": [
        "## Problem 20\n",
        "Factorial digit sum"
      ],
      "metadata": {
        "collapsed": false,
        "outputHidden": false,
        "inputHidden": false
      }
    },
    {
      "cell_type": "code",
      "source": [
        "import math\n",
        "a=math.factorial(100)"
      ],
      "outputs": [],
      "execution_count": 22,
      "metadata": {}
    },
    {
      "cell_type": "code",
      "source": [
        "ans=0\n",
        "for i in str(a):\n",
        "    ans += int(i)\n",
        "print(ans)"
      ],
      "outputs": [
        {
          "output_type": "stream",
          "name": "stdout",
          "text": [
            "648\n"
          ]
        }
      ],
      "execution_count": 26,
      "metadata": {
        "collapsed": false,
        "outputHidden": false,
        "inputHidden": false
      }
    },
    {
      "cell_type": "code",
      "source": [],
      "outputs": [],
      "execution_count": null,
      "metadata": {
        "collapsed": false,
        "outputHidden": false,
        "inputHidden": false
      }
    }
  ],
  "metadata": {
    "kernel_info": {
      "name": "python3"
    },
    "language_info": {
      "name": "python",
      "version": "3.6.5",
      "mimetype": "text/x-python",
      "codemirror_mode": {
        "name": "ipython",
        "version": 3
      },
      "pygments_lexer": "ipython3",
      "nbconvert_exporter": "python",
      "file_extension": ".py"
    },
    "kernelspec": {
      "name": "python3",
      "language": "python",
      "display_name": "Python 3"
    },
    "nteract": {
      "version": "0.11.6"
    }
  },
  "nbformat": 4,
  "nbformat_minor": 4
}