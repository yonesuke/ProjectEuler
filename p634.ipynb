{
  "cells": [
    {
      "cell_type": "markdown",
      "source": [
        "## Problem 634\n",
        "Numbers of the form $a^2b^3$"
      ],
      "metadata": {
        "collapsed": false,
        "outputHidden": false,
        "inputHidden": false
      }
    },
    {
      "cell_type": "markdown",
      "source": [
        "以下のコードは実行時間的にも、メモリ的にも最悪なので実行しない！！！"
      ],
      "metadata": {}
    },
    {
      "cell_type": "code",
      "source": [
        "\"\"\"\n",
        "n=9*10^18\n",
        "max_a=floor(sqrt(n/8))\n",
        "answer=Set()\n",
        "for a in 2:max_a\n",
        "    max_b=floor((n/a^2)^(1/3))\n",
        "    for b in 2:max_b\n",
        "        push!(answer,a^2*b^3)\n",
        "        #println(a^2*b^3)\n",
        "    end\n",
        "end\n",
        "\"\"\""
      ],
      "outputs": [],
      "execution_count": null,
      "metadata": {
        "collapsed": false,
        "outputHidden": false,
        "inputHidden": false
      }
    },
    {
      "cell_type": "markdown",
      "source": [
        "素因数を見ておけば同じものを複数数えることもない。\n",
        "その方向性でやってみる。"
      ],
      "metadata": {
        "collapsed": false,
        "outputHidden": false,
        "inputHidden": false
      }
    },
    {
      "cell_type": "markdown",
      "source": [],
      "metadata": {}
    }
  ],
  "metadata": {
    "kernel_info": {
      "name": "julia-1.0"
    },
    "language_info": {
      "file_extension": ".jl",
      "name": "julia",
      "mimetype": "application/julia",
      "version": "1.0.0"
    },
    "kernelspec": {
      "name": "julia-1.0",
      "language": "julia",
      "display_name": "Julia 1.0.0"
    },
    "nteract": {
      "version": "0.11.6"
    }
  },
  "nbformat": 4,
  "nbformat_minor": 4
}