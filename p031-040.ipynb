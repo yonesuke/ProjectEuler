{
  "cells": [
    {
      "cell_type": "markdown",
      "source": [
        "## [Problem 31](https://projecteuler.net/problem=31)\n",
        "Coin sums"
      ],
      "metadata": {
        "collapsed": false,
        "outputHidden": false,
        "inputHidden": false
      }
    },
    {
      "cell_type": "code",
      "source": [
        "import numpy as np\n",
        "import itertools\n",
        "from tqdm import tqdm"
      ],
      "outputs": [],
      "execution_count": 13,
      "metadata": {
        "collapsed": false,
        "outputHidden": false,
        "inputHidden": false
      }
    },
    {
      "cell_type": "code",
      "source": [
        "#coins=[200,100,50,20,10,5,2,1]\n",
        "coins=[1,2,5,10,20,50,100,200]\n",
        "num=[[0 for _ in range(len(coins))] for _ in range(201)]\n",
        "num[0]=[1 for _ in range(len(coins))]"
      ],
      "outputs": [],
      "execution_count": 16,
      "metadata": {
        "collapsed": false,
        "outputHidden": false,
        "inputHidden": false
      }
    },
    {
      "cell_type": "code",
      "source": [
        "def max_coin(x):\n",
        "    if x == 200:\n",
        "        return coins\n",
        "    for i,coin in enumerate(coins):\n",
        "        if x < coin:\n",
        "            return coins[:i]\n",
        "            break"
      ],
      "outputs": [],
      "execution_count": 17,
      "metadata": {
        "collapsed": false,
        "outputHidden": false,
        "inputHidden": false
      }
    },
    {
      "cell_type": "code",
      "source": [
        "for x in range(1,201):\n",
        "    coin_list=max_coin(x)\n",
        "    for i,coin in enumerate(coin_list):\n",
        "        if x == coin:\n",
        "            num[x][i]=1\n",
        "        else:\n",
        "            num[x][i]=sum(num[x-coin][:i+1])"
      ],
      "outputs": [],
      "execution_count": 18,
      "metadata": {
        "collapsed": false,
        "outputHidden": false,
        "inputHidden": false
      }
    },
    {
      "cell_type": "code",
      "source": [
        "sum(num[200])"
      ],
      "outputs": [
        {
          "output_type": "execute_result",
          "execution_count": 19,
          "data": {
            "text/plain": [
              "73682"
            ]
          },
          "metadata": {}
        }
      ],
      "execution_count": 19,
      "metadata": {
        "collapsed": false,
        "outputHidden": false,
        "inputHidden": false
      }
    },
    {
      "cell_type": "markdown",
      "source": [
        "## [Problem 32](https://projecteuler.net/problem=32)\n",
        "Pandigital products"
      ],
      "metadata": {
        "collapsed": false,
        "outputHidden": false,
        "inputHidden": false
      }
    },
    {
      "cell_type": "code",
      "source": [
        "from sympy import divisors"
      ],
      "outputs": [],
      "execution_count": 20,
      "metadata": {
        "collapsed": false,
        "outputHidden": false,
        "inputHidden": false
      }
    },
    {
      "cell_type": "code",
      "source": [
        "s=set()\n",
        "for i in itertools.permutations(range(1,10),4):\n",
        "    x=divisors(int(\"\".join(map(str,i))))\n",
        "    length=len(x)\n",
        "    if length==2:\n",
        "        continue\n",
        "    for j in range(1,length//2):\n",
        "        tmp=set(str(x[j])+str(x[-(j+1)])+str(i[0])+str(i[1])+str(i[2])+str(i[3]))\n",
        "        if len(tmp)==9 and '0' not in tmp:\n",
        "            #print(tmp)\n",
        "            #ans+=int(\"\".join(map(str,i)))\n",
        "            hoge=int(\"\".join(map(str,i)))\n",
        "            s.add(hoge)"
      ],
      "outputs": [],
      "execution_count": 21,
      "metadata": {
        "collapsed": false,
        "outputHidden": false,
        "inputHidden": false
      }
    },
    {
      "cell_type": "code",
      "source": [
        "print(s)"
      ],
      "outputs": [
        {
          "output_type": "stream",
          "name": "stdout",
          "text": [
            "{5346, 5796, 6952, 4396, 7852, 7632, 7254}\n"
          ]
        }
      ],
      "execution_count": 22,
      "metadata": {
        "collapsed": false,
        "outputHidden": false,
        "inputHidden": false
      }
    },
    {
      "cell_type": "code",
      "source": [
        "print(sum(list(s)))"
      ],
      "outputs": [
        {
          "output_type": "stream",
          "name": "stdout",
          "text": [
            "45228\n"
          ]
        }
      ],
      "execution_count": 23,
      "metadata": {
        "collapsed": false,
        "outputHidden": false,
        "inputHidden": false
      }
    },
    {
      "cell_type": "markdown",
      "source": [
        "## [Problem 33](https://projecteuler.net/problem=33)\n",
        "Digit cancelling fractions"
      ],
      "metadata": {
        "collapsed": false,
        "outputHidden": false,
        "inputHidden": false
      }
    },
    {
      "cell_type": "code",
      "source": [
        "for y in range(1,10):\n",
        "    for i,j in itertools.product(range(1,10),repeat=2):\n",
        "        #iのほうが分母、jのほうが分子\n",
        "        #約分したときに1よりちっちゃくないといかんからi>jみたいな条件で切る。\n",
        "        #iy,yiとjy,yj４通りの組み合わせがあって、そのうち1を超えないものを考える。\n",
        "        if i<=j:\n",
        "            continue\n",
        "        for bunbo in [10*i+y,10*y+i]:\n",
        "            for bunshi in [10*j+y,10*y+j]:\n",
        "                if bunshi/bunbo==j/i:\n",
        "                    print(bunshi,bunbo)"
      ],
      "outputs": [
        {
          "output_type": "stream",
          "name": "stdout",
          "text": [
            "16 64\n",
            "26 65\n",
            "19 95\n",
            "49 98\n"
          ]
        }
      ],
      "execution_count": 24,
      "metadata": {}
    },
    {
      "cell_type": "markdown",
      "source": [
        "$$\n",
        "\\frac{1}{4}\\times\\frac{2}{5}\\times\\frac{1}{5}\\times\\frac{1}{2}=\\frac{1}{100}\n",
        "$$"
      ],
      "metadata": {}
    },
    {
      "cell_type": "markdown",
      "source": [
        "## [Problem 34](https://projecteuler.net/problem=34)\n",
        "Digit factorials"
      ],
      "metadata": {
        "collapsed": false,
        "outputHidden": false,
        "inputHidden": false
      }
    },
    {
      "cell_type": "code",
      "source": [
        "factorial=[1,1,2,6,24,120,720,5040,40320,362880]"
      ],
      "outputs": [],
      "execution_count": 25,
      "metadata": {}
    },
    {
      "cell_type": "code",
      "source": [
        "for x in range(3,10000000):\n",
        "    tmp=list(map(int,list(str(x))))\n",
        "    if x==sum([factorial[x] for x in tmp]):\n",
        "        print(x)"
      ],
      "outputs": [
        {
          "output_type": "stream",
          "name": "stdout",
          "text": [
            "145\n",
            "40585\n"
          ]
        }
      ],
      "execution_count": 26,
      "metadata": {
        "collapsed": false,
        "outputHidden": false,
        "inputHidden": false
      }
    },
    {
      "cell_type": "code",
      "source": [
        "145+40585"
      ],
      "outputs": [
        {
          "output_type": "execute_result",
          "execution_count": 27,
          "data": {
            "text/plain": [
              "40730"
            ]
          },
          "metadata": {}
        }
      ],
      "execution_count": 27,
      "metadata": {
        "collapsed": false,
        "outputHidden": false,
        "inputHidden": false
      }
    },
    {
      "cell_type": "markdown",
      "source": [
        "## [Problem 35](https://projecteuler.net/problem=35)\n",
        "Circular primes"
      ],
      "metadata": {
        "collapsed": false,
        "outputHidden": false,
        "inputHidden": false
      }
    },
    {
      "cell_type": "code",
      "source": [
        "from sympy import primerange,isprime"
      ],
      "outputs": [],
      "execution_count": 28,
      "metadata": {}
    },
    {
      "cell_type": "code",
      "source": [
        "prime=[i for i in primerange(1,10**6)]"
      ],
      "outputs": [],
      "execution_count": 29,
      "metadata": {
        "collapsed": false,
        "outputHidden": false,
        "inputHidden": false
      }
    },
    {
      "cell_type": "code",
      "source": [
        "#2を考慮する\n",
        "ans=[2]\n",
        "even={'0','2','4','6','8'}\n",
        "for i in tqdm(prime):\n",
        "    flag=True\n",
        "    s=set(str(i))\n",
        "    tmp=list(str(i))*2\n",
        "    length=len(str(i))\n",
        "    prime_list=[]\n",
        "    for cut in range(length):\n",
        "        prime_list.append(int(\"\".join(tmp[cut:cut+length])))\n",
        "    if s.isdisjoint(even):\n",
        "        for p in prime_list:\n",
        "            flag=flag and isprime(p)\n",
        "        if flag==True:\n",
        "            ans.append(prime_list)"
      ],
      "outputs": [
        {
          "output_type": "stream",
          "name": "stderr",
          "text": [
            "100%|██████████| 78498/78498 [00:00<00:00, 108117.42it/s]\n"
          ]
        }
      ],
      "execution_count": 30,
      "metadata": {
        "collapsed": false,
        "outputHidden": false,
        "inputHidden": false
      }
    },
    {
      "cell_type": "code",
      "source": [
        "len(ans)"
      ],
      "outputs": [
        {
          "output_type": "execute_result",
          "execution_count": 31,
          "data": {
            "text/plain": [
              "55"
            ]
          },
          "metadata": {}
        }
      ],
      "execution_count": 31,
      "metadata": {
        "collapsed": false,
        "outputHidden": false,
        "inputHidden": false
      }
    },
    {
      "cell_type": "markdown",
      "source": [
        "## [Problem 36](https://projecteuler.net/problem=36)\n",
        "Double-base palindromes"
      ],
      "metadata": {
        "collapsed": false,
        "outputHidden": false,
        "inputHidden": false
      }
    },
    {
      "cell_type": "code",
      "source": [
        "ans=0\n",
        "for i in tqdm(range(1,10**6,2)):\n",
        "    if i%10==0:\n",
        "        continue\n",
        "    list_10=list(str(i))\n",
        "    list_02=list(bin(i)[2:])\n",
        "    if list_10==list(reversed(list_10)) and list_02==list(reversed(list_02)):\n",
        "        ans+=i"
      ],
      "outputs": [
        {
          "output_type": "stream",
          "name": "stderr",
          "text": [
            "100%|██████████| 500000/500000 [00:01<00:00, 373567.25it/s]\n"
          ]
        }
      ],
      "execution_count": 32,
      "metadata": {}
    },
    {
      "cell_type": "code",
      "source": [
        "ans"
      ],
      "outputs": [
        {
          "output_type": "execute_result",
          "execution_count": 33,
          "data": {
            "text/plain": [
              "872187"
            ]
          },
          "metadata": {}
        }
      ],
      "execution_count": 33,
      "metadata": {
        "collapsed": false,
        "outputHidden": false,
        "inputHidden": false
      }
    },
    {
      "cell_type": "markdown",
      "source": [
        "## [Problem 37](https://projecteuler.net/problem=37)\n",
        "Truncatable primes"
      ],
      "metadata": {
        "collapsed": false,
        "outputHidden": false,
        "inputHidden": false
      }
    },
    {
      "cell_type": "code",
      "source": [
        "ans=[23,37,53,73]"
      ],
      "outputs": [],
      "execution_count": 50,
      "metadata": {
        "collapsed": false,
        "outputHidden": false,
        "inputHidden": false
      }
    },
    {
      "cell_type": "code",
      "source": [
        "even={'0','4','6','8'}\n",
        "prime_string=[i for i in prime if even.isdisjoint(set(list(str(i))))]\n",
        "prime_string_set=set(prime_string)\n",
        "for x in prime_string[25:]:\n",
        "    x=list(str(x))\n",
        "    a=[int(\"\".join(x[i:])) for i in range(len(x))]\n",
        "    a.extend([int(\"\".join(x[:i+1])) for i in range(len(x)-1)])\n",
        "    s=set(a)\n",
        "    if s <= prime_string_set:\n",
        "        ans.append(int(\"\".join(x)))"
      ],
      "outputs": [],
      "execution_count": 89,
      "metadata": {}
    },
    {
      "cell_type": "code",
      "source": [
        "sum(ans)"
      ],
      "outputs": [
        {
          "output_type": "execute_result",
          "execution_count": 91,
          "data": {
            "text/plain": [
              "748317"
            ]
          },
          "metadata": {}
        }
      ],
      "execution_count": 91,
      "metadata": {
        "collapsed": false,
        "outputHidden": false,
        "inputHidden": false
      }
    },
    {
      "cell_type": "markdown",
      "source": [
        "## [Problem 38](https://projecteuler.net/problem=38)\n",
        "Pandigital multiples"
      ],
      "metadata": {
        "collapsed": false,
        "outputHidden": false,
        "inputHidden": false
      }
    },
    {
      "cell_type": "code",
      "source": [
        "#2けた、３けたのときだめだった。。４けたでやってみよう。\n",
        "for i in reversed(range(1,999)):\n",
        "    x=9000+i\n",
        "    tmp=str(x)+str(x*2)\n",
        "    tmp=set(tmp)\n",
        "    if len(tmp)==9 and '0' not in tmp:\n",
        "        print(str(x)+str(x*2))\n",
        "        break"
      ],
      "outputs": [
        {
          "output_type": "stream",
          "name": "stdout",
          "text": [
            "932718654\n"
          ]
        }
      ],
      "execution_count": 109,
      "metadata": {}
    },
    {
      "cell_type": "markdown",
      "source": [
        "## [Problem 39](https://projecteuler.net/problem=39)\n",
        "Integer right triangles"
      ],
      "metadata": {
        "collapsed": false,
        "outputHidden": false,
        "inputHidden": false
      }
    },
    {
      "cell_type": "code",
      "source": [
        "from math import gcd"
      ],
      "outputs": [],
      "execution_count": 111,
      "metadata": {
        "collapsed": false,
        "outputHidden": false,
        "inputHidden": false
      }
    },
    {
      "cell_type": "code",
      "source": [
        "dic={}\n",
        "for m in range(2,22):\n",
        "    for n in range(m-1,0,-2):\n",
        "        if gcd(m,n)==1 and m*(m+n)<=500:\n",
        "            Q.update()\n",
        "            print(m,n)"
      ],
      "outputs": [
        {
          "output_type": "stream",
          "name": "stdout",
          "text": [
            "2 1\n",
            "3 2\n",
            "4 3\n",
            "4 1\n",
            "5 4\n",
            "5 2\n",
            "6 5\n",
            "6 1\n",
            "7 6\n",
            "7 4\n",
            "7 2\n",
            "8 7\n",
            "8 5\n",
            "8 3\n",
            "8 1\n",
            "9 8\n",
            "9 4\n",
            "9 2\n",
            "10 9\n",
            "10 7\n",
            "10 3\n",
            "10 1\n",
            "11 10\n",
            "11 8\n",
            "11 6\n",
            "11 4\n",
            "11 2\n",
            "12 11\n",
            "12 7\n",
            "12 5\n",
            "12 1\n",
            "13 12\n",
            "13 10\n",
            "13 8\n",
            "13 6\n",
            "13 4\n",
            "13 2\n",
            "14 13\n",
            "14 11\n",
            "14 9\n",
            "14 5\n",
            "14 3\n",
            "14 1\n",
            "15 14\n",
            "15 8\n",
            "15 4\n",
            "15 2\n",
            "16 15\n",
            "16 13\n",
            "16 11\n",
            "16 9\n",
            "16 7\n",
            "16 5\n",
            "16 3\n",
            "16 1\n",
            "17 12\n",
            "17 10\n",
            "17 8\n",
            "17 6\n",
            "17 4\n",
            "17 2\n",
            "18 7\n",
            "18 5\n",
            "18 1\n",
            "19 6\n",
            "19 4\n",
            "19 2\n",
            "20 3\n",
            "20 1\n",
            "21 2\n"
          ]
        }
      ],
      "execution_count": 114,
      "metadata": {}
    },
    {
      "cell_type": "code",
      "source": [],
      "outputs": [],
      "execution_count": null,
      "metadata": {
        "collapsed": false,
        "outputHidden": false,
        "inputHidden": false
      }
    }
  ],
  "metadata": {
    "kernel_info": {
      "name": "python3"
    },
    "language_info": {
      "name": "python",
      "version": "3.6.5",
      "mimetype": "text/x-python",
      "codemirror_mode": {
        "name": "ipython",
        "version": 3
      },
      "pygments_lexer": "ipython3",
      "nbconvert_exporter": "python",
      "file_extension": ".py"
    },
    "kernelspec": {
      "name": "python3",
      "language": "python",
      "display_name": "Python 3"
    },
    "nteract": {
      "version": "0.11.6"
    }
  },
  "nbformat": 4,
  "nbformat_minor": 4
}