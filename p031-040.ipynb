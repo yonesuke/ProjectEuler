{
  "cells": [
    {
      "cell_type": "markdown",
      "source": [
        "## [Problem 31](https://projecteuler.net/problem=31)\n",
        "Coin sums"
      ],
      "metadata": {
        "collapsed": false,
        "outputHidden": false,
        "inputHidden": false
      }
    },
    {
      "cell_type": "code",
      "source": [
        "import numpy as np\n",
        "import itertools\n",
        "from tqdm import tqdm"
      ],
      "outputs": [],
      "execution_count": 1,
      "metadata": {
        "collapsed": false,
        "outputHidden": false,
        "inputHidden": false
      }
    },
    {
      "cell_type": "code",
      "source": [
        "#coins=[200,100,50,20,10,5,2,1]\n",
        "coins=[1,2,5,10,20,50,100,200]\n",
        "num=[[0 for _ in range(len(coins))] for _ in range(201)]\n",
        "num[0]=[1 for _ in range(len(coins))]"
      ],
      "outputs": [],
      "execution_count": 51,
      "metadata": {
        "collapsed": false,
        "outputHidden": false,
        "inputHidden": false
      }
    },
    {
      "cell_type": "code",
      "source": [
        "def max_coin(x):\n",
        "    if x == 200:\n",
        "        return coins\n",
        "    for i,coin in enumerate(coins):\n",
        "        if x < coin:\n",
        "            return coins[:i]\n",
        "            break"
      ],
      "outputs": [],
      "execution_count": 52,
      "metadata": {
        "collapsed": false,
        "outputHidden": false,
        "inputHidden": false
      }
    },
    {
      "cell_type": "code",
      "source": [
        "for x in range(1,201):\n",
        "    coin_list=max_coin(x)\n",
        "    for i,coin in enumerate(coin_list):\n",
        "        if x == coin:\n",
        "            num[x][i]=1\n",
        "        else:\n",
        "            num[x][i]=sum(num[x-coin][:i+1])"
      ],
      "outputs": [],
      "execution_count": 58,
      "metadata": {
        "collapsed": false,
        "outputHidden": false,
        "inputHidden": false
      }
    },
    {
      "cell_type": "code",
      "source": [
        "sum(num[200])"
      ],
      "outputs": [
        {
          "output_type": "execute_result",
          "execution_count": 62,
          "data": {
            "text/plain": [
              "73682"
            ]
          },
          "metadata": {}
        }
      ],
      "execution_count": 62,
      "metadata": {
        "collapsed": false,
        "outputHidden": false,
        "inputHidden": false
      }
    },
    {
      "cell_type": "markdown",
      "source": [
        "## [Problem 32](https://projecteuler.net/problem=32)\n",
        "Pandigital products"
      ],
      "metadata": {
        "collapsed": false,
        "outputHidden": false,
        "inputHidden": false
      }
    },
    {
      "cell_type": "code",
      "source": [
        "from sympy import divisors"
      ],
      "outputs": [],
      "execution_count": 80,
      "metadata": {
        "collapsed": false,
        "outputHidden": false,
        "inputHidden": false
      }
    },
    {
      "cell_type": "code",
      "source": [
        "s=set()\n",
        "for i in itertools.permutations(range(1,10),4):\n",
        "    x=divisors(int(\"\".join(map(str,i))))\n",
        "    length=len(x)\n",
        "    if length==2:\n",
        "        continue\n",
        "    for j in range(1,length//2):\n",
        "        tmp=set(str(x[j])+str(x[-(j+1)])+str(i[0])+str(i[1])+str(i[2])+str(i[3]))\n",
        "        if len(tmp)==9 and '0' not in tmp:\n",
        "            #print(tmp)\n",
        "            #ans+=int(\"\".join(map(str,i)))\n",
        "            hoge=int(\"\".join(map(str,i)))\n",
        "            s.add(hoge)"
      ],
      "outputs": [],
      "execution_count": 145,
      "metadata": {
        "collapsed": false,
        "outputHidden": false,
        "inputHidden": false
      }
    },
    {
      "cell_type": "code",
      "source": [
        "print(sum(list(s)))"
      ],
      "outputs": [
        {
          "output_type": "stream",
          "name": "stdout",
          "text": [
            "45228\n"
          ]
        }
      ],
      "execution_count": 150,
      "metadata": {
        "collapsed": false,
        "outputHidden": false,
        "inputHidden": false
      }
    },
    {
      "cell_type": "markdown",
      "source": [
        "## [Problem 33](https://projecteuler.net/problem=33)\n",
        "Digit cancelling fractions"
      ],
      "metadata": {
        "collapsed": false,
        "outputHidden": false,
        "inputHidden": false
      }
    },
    {
      "cell_type": "code",
      "source": [
        "ans_bunbo=1\n",
        "ans_bunshi=1\n",
        "for y in range(1,10):\n",
        "    for i,j in itertools.product(range(1,10),repeat=2):\n",
        "        #iのほうが分母、jのほうが分子\n",
        "        #約分したときに1よりちっちゃくないといかんからi>jみたいな条件で切る。\n",
        "        #iy,yiとjy,yj４通りの組み合わせがあって、そのうち1を超えないものを考える。\n",
        "        if i<=j:\n",
        "            continue\n",
        "        for bunbo in [10*i+y,10*y+i]:\n",
        "            for bunshi in [10*j+y,10*y+j]:\n",
        "                if bunshi/bunbo==j/i:\n",
        "                    ans_bunbo*=bunbo\n",
        "                    ans_bunshi*=bunshi\n",
        "                    print(bunshi,bunbo)\n",
        "#print(ans_bunshi,ans_bunshi)                    "
      ],
      "outputs": [
        {
          "output_type": "stream",
          "name": "stdout",
          "text": [
            "16 64\n",
            "26 65\n",
            "19 95\n",
            "49 98\n"
          ]
        }
      ],
      "execution_count": 154,
      "metadata": {}
    },
    {
      "cell_type": "markdown",
      "source": [
        "$$\n",
        "\\frac{1}{4}\\times\\frac{2}{5}\\times\\frac{1}{5}\\times\\frac{1}{2}=\\frac{1}{100}\n",
        "$$"
      ],
      "metadata": {}
    },
    {
      "cell_type": "markdown",
      "source": [
        "## [Problem 34](https://projecteuler.net/problem=34)\n",
        "Digit factorials"
      ],
      "metadata": {
        "collapsed": false,
        "outputHidden": false,
        "inputHidden": false
      }
    },
    {
      "cell_type": "markdown",
      "source": [],
      "metadata": {}
    }
  ],
  "metadata": {
    "kernel_info": {
      "name": "python3"
    },
    "language_info": {
      "name": "python",
      "version": "3.6.5",
      "mimetype": "text/x-python",
      "codemirror_mode": {
        "name": "ipython",
        "version": 3
      },
      "pygments_lexer": "ipython3",
      "nbconvert_exporter": "python",
      "file_extension": ".py"
    },
    "kernelspec": {
      "name": "python3",
      "language": "python",
      "display_name": "Python 3"
    },
    "nteract": {
      "version": "0.11.6"
    }
  },
  "nbformat": 4,
  "nbformat_minor": 4
}