{
 "cells": [
  {
   "cell_type": "markdown",
   "metadata": {
    "inputHidden": false,
    "outputHidden": false
   },
   "source": [
    "## [Problem 31](https://projecteuler.net/problem=31)\n",
    "Coin sums"
   ]
  },
  {
   "cell_type": "code",
   "execution_count": 1,
   "metadata": {
    "collapsed": false,
    "inputHidden": false,
    "outputHidden": false
   },
   "outputs": [],
   "source": [
    "import numpy as np\n",
    "import itertools\n",
    "from tqdm import tqdm"
   ]
  },
  {
   "cell_type": "code",
   "execution_count": 2,
   "metadata": {
    "collapsed": false,
    "inputHidden": false,
    "outputHidden": false
   },
   "outputs": [],
   "source": [
    "#coins=[200,100,50,20,10,5,2,1]\n",
    "coins=[1,2,5,10,20,50,100,200]\n",
    "num=[[0 for _ in range(len(coins))] for _ in range(201)]\n",
    "num[0]=[1 for _ in range(len(coins))]"
   ]
  },
  {
   "cell_type": "code",
   "execution_count": 3,
   "metadata": {
    "collapsed": false,
    "inputHidden": false,
    "outputHidden": false
   },
   "outputs": [],
   "source": [
    "def max_coin(x):\n",
    "    if x == 200:\n",
    "        return coins\n",
    "    for i,coin in enumerate(coins):\n",
    "        if x < coin:\n",
    "            return coins[:i]\n",
    "            break"
   ]
  },
  {
   "cell_type": "code",
   "execution_count": 4,
   "metadata": {
    "collapsed": false,
    "inputHidden": false,
    "outputHidden": false
   },
   "outputs": [],
   "source": [
    "for x in range(1,201):\n",
    "    coin_list=max_coin(x)\n",
    "    for i,coin in enumerate(coin_list):\n",
    "        if x == coin:\n",
    "            num[x][i]=1\n",
    "        else:\n",
    "            num[x][i]=sum(num[x-coin][:i+1])"
   ]
  },
  {
   "cell_type": "code",
   "execution_count": 5,
   "metadata": {
    "collapsed": false,
    "inputHidden": false,
    "outputHidden": false
   },
   "outputs": [
    {
     "data": {
      "text/plain": [
       "73682"
      ]
     },
     "execution_count": 5,
     "metadata": {},
     "output_type": "execute_result"
    }
   ],
   "source": [
    "sum(num[200])"
   ]
  },
  {
   "cell_type": "markdown",
   "metadata": {
    "inputHidden": false,
    "outputHidden": false
   },
   "source": [
    "## [Problem 32](https://projecteuler.net/problem=32)\n",
    "Pandigital products"
   ]
  },
  {
   "cell_type": "code",
   "execution_count": 6,
   "metadata": {
    "collapsed": false,
    "inputHidden": false,
    "outputHidden": false
   },
   "outputs": [],
   "source": [
    "from sympy import divisors"
   ]
  },
  {
   "cell_type": "code",
   "execution_count": 7,
   "metadata": {
    "collapsed": false,
    "inputHidden": false,
    "outputHidden": false
   },
   "outputs": [],
   "source": [
    "s=set()\n",
    "for i in itertools.permutations(range(1,10),4):\n",
    "    x=divisors(int(\"\".join(map(str,i))))\n",
    "    length=len(x)\n",
    "    if length==2:\n",
    "        continue\n",
    "    for j in range(1,length//2):\n",
    "        tmp=set(str(x[j])+str(x[-(j+1)])+str(i[0])+str(i[1])+str(i[2])+str(i[3]))\n",
    "        if len(tmp)==9 and '0' not in tmp:\n",
    "            #print(tmp)\n",
    "            #ans+=int(\"\".join(map(str,i)))\n",
    "            hoge=int(\"\".join(map(str,i)))\n",
    "            s.add(hoge)"
   ]
  },
  {
   "cell_type": "code",
   "execution_count": 8,
   "metadata": {
    "collapsed": false,
    "inputHidden": false,
    "outputHidden": false
   },
   "outputs": [
    {
     "name": "stdout",
     "output_type": "stream",
     "text": [
      "{5346, 5796, 6952, 4396, 7852, 7632, 7254}\n"
     ]
    }
   ],
   "source": [
    "print(s)"
   ]
  },
  {
   "cell_type": "code",
   "execution_count": 9,
   "metadata": {
    "collapsed": false,
    "inputHidden": false,
    "outputHidden": false
   },
   "outputs": [
    {
     "name": "stdout",
     "output_type": "stream",
     "text": [
      "45228\n"
     ]
    }
   ],
   "source": [
    "print(sum(list(s)))"
   ]
  },
  {
   "cell_type": "markdown",
   "metadata": {
    "inputHidden": false,
    "outputHidden": false
   },
   "source": [
    "## [Problem 33](https://projecteuler.net/problem=33)\n",
    "Digit cancelling fractions"
   ]
  },
  {
   "cell_type": "code",
   "execution_count": 10,
   "metadata": {},
   "outputs": [
    {
     "name": "stdout",
     "output_type": "stream",
     "text": [
      "16 64\n",
      "26 65\n",
      "19 95\n",
      "49 98\n"
     ]
    }
   ],
   "source": [
    "for y in range(1,10):\n",
    "    for i,j in itertools.product(range(1,10),repeat=2):\n",
    "        #iのほうが分母、jのほうが分子\n",
    "        #約分したときに1よりちっちゃくないといかんからi>jみたいな条件で切る。\n",
    "        #iy,yiとjy,yj４通りの組み合わせがあって、そのうち1を超えないものを考える。\n",
    "        if i<=j:\n",
    "            continue\n",
    "        for bunbo in [10*i+y,10*y+i]:\n",
    "            for bunshi in [10*j+y,10*y+j]:\n",
    "                if bunshi/bunbo==j/i:\n",
    "                    print(bunshi,bunbo)"
   ]
  },
  {
   "cell_type": "markdown",
   "metadata": {},
   "source": [
    "$$\n",
    "\\frac{1}{4}\\times\\frac{2}{5}\\times\\frac{1}{5}\\times\\frac{1}{2}=\\frac{1}{100}\n",
    "$$"
   ]
  },
  {
   "cell_type": "markdown",
   "metadata": {
    "inputHidden": false,
    "outputHidden": false
   },
   "source": [
    "## [Problem 34](https://projecteuler.net/problem=34)\n",
    "Digit factorials"
   ]
  },
  {
   "cell_type": "code",
   "execution_count": 11,
   "metadata": {},
   "outputs": [],
   "source": [
    "factorial=[1,1,2,6,24,120,720,5040,40320,362880]"
   ]
  },
  {
   "cell_type": "code",
   "execution_count": 12,
   "metadata": {
    "collapsed": false,
    "inputHidden": false,
    "outputHidden": false
   },
   "outputs": [
    {
     "name": "stdout",
     "output_type": "stream",
     "text": [
      "145\n",
      "40585\n"
     ]
    }
   ],
   "source": [
    "for x in range(3,10000000):\n",
    "    tmp=list(map(int,list(str(x))))\n",
    "    if x==sum([factorial[x] for x in tmp]):\n",
    "        print(x)"
   ]
  },
  {
   "cell_type": "code",
   "execution_count": 13,
   "metadata": {
    "collapsed": false,
    "inputHidden": false,
    "outputHidden": false
   },
   "outputs": [
    {
     "data": {
      "text/plain": [
       "40730"
      ]
     },
     "execution_count": 13,
     "metadata": {},
     "output_type": "execute_result"
    }
   ],
   "source": [
    "145+40585"
   ]
  },
  {
   "cell_type": "markdown",
   "metadata": {
    "inputHidden": false,
    "outputHidden": false
   },
   "source": [
    "## [Problem 35](https://projecteuler.net/problem=35)\n",
    "Circular primes"
   ]
  },
  {
   "cell_type": "code",
   "execution_count": 14,
   "metadata": {},
   "outputs": [],
   "source": [
    "from sympy import primerange,isprime"
   ]
  },
  {
   "cell_type": "code",
   "execution_count": 15,
   "metadata": {
    "collapsed": false,
    "inputHidden": false,
    "outputHidden": false
   },
   "outputs": [],
   "source": [
    "prime=[i for i in primerange(1,10**6)]"
   ]
  },
  {
   "cell_type": "code",
   "execution_count": 16,
   "metadata": {
    "collapsed": false,
    "inputHidden": false,
    "outputHidden": false
   },
   "outputs": [
    {
     "name": "stderr",
     "output_type": "stream",
     "text": [
      "100%|██████████| 78498/78498 [00:00<00:00, 116147.25it/s]\n"
     ]
    }
   ],
   "source": [
    "#2を考慮する\n",
    "ans=[2]\n",
    "even={'0','2','4','6','8'}\n",
    "for i in tqdm(prime):\n",
    "    flag=True\n",
    "    s=set(str(i))\n",
    "    tmp=list(str(i))*2\n",
    "    length=len(str(i))\n",
    "    prime_list=[]\n",
    "    for cut in range(length):\n",
    "        prime_list.append(int(\"\".join(tmp[cut:cut+length])))\n",
    "    if s.isdisjoint(even):\n",
    "        for p in prime_list:\n",
    "            flag=flag and isprime(p)\n",
    "        if flag==True:\n",
    "            ans.append(prime_list)"
   ]
  },
  {
   "cell_type": "code",
   "execution_count": 17,
   "metadata": {
    "collapsed": false,
    "inputHidden": false,
    "outputHidden": false
   },
   "outputs": [
    {
     "data": {
      "text/plain": [
       "55"
      ]
     },
     "execution_count": 17,
     "metadata": {},
     "output_type": "execute_result"
    }
   ],
   "source": [
    "len(ans)"
   ]
  },
  {
   "cell_type": "markdown",
   "metadata": {
    "inputHidden": false,
    "outputHidden": false
   },
   "source": [
    "## [Problem 36](https://projecteuler.net/problem=36)\n",
    "Double-base palindromes"
   ]
  },
  {
   "cell_type": "code",
   "execution_count": 18,
   "metadata": {},
   "outputs": [
    {
     "name": "stderr",
     "output_type": "stream",
     "text": [
      "100%|██████████| 500000/500000 [00:01<00:00, 363056.82it/s]\n"
     ]
    }
   ],
   "source": [
    "ans=0\n",
    "for i in tqdm(range(1,10**6,2)):\n",
    "    if i%10==0:\n",
    "        continue\n",
    "    list_10=list(str(i))\n",
    "    list_02=list(bin(i)[2:])\n",
    "    if list_10==list(reversed(list_10)) and list_02==list(reversed(list_02)):\n",
    "        ans+=i"
   ]
  },
  {
   "cell_type": "code",
   "execution_count": 19,
   "metadata": {
    "collapsed": false,
    "inputHidden": false,
    "outputHidden": false
   },
   "outputs": [
    {
     "data": {
      "text/plain": [
       "872187"
      ]
     },
     "execution_count": 19,
     "metadata": {},
     "output_type": "execute_result"
    }
   ],
   "source": [
    "ans"
   ]
  },
  {
   "cell_type": "markdown",
   "metadata": {
    "inputHidden": false,
    "outputHidden": false
   },
   "source": [
    "## [Problem 37](https://projecteuler.net/problem=37)\n",
    "Truncatable primes"
   ]
  },
  {
   "cell_type": "code",
   "execution_count": 20,
   "metadata": {
    "collapsed": false,
    "inputHidden": false,
    "outputHidden": false
   },
   "outputs": [],
   "source": [
    "ans=[23,37,53,73]"
   ]
  },
  {
   "cell_type": "code",
   "execution_count": 21,
   "metadata": {},
   "outputs": [],
   "source": [
    "even={'0','4','6','8'}\n",
    "prime_string=[i for i in prime if even.isdisjoint(set(list(str(i))))]\n",
    "prime_string_set=set(prime_string)\n",
    "for x in prime_string[25:]:\n",
    "    x=list(str(x))\n",
    "    a=[int(\"\".join(x[i:])) for i in range(len(x))]\n",
    "    a.extend([int(\"\".join(x[:i+1])) for i in range(len(x)-1)])\n",
    "    s=set(a)\n",
    "    if s <= prime_string_set:\n",
    "        ans.append(int(\"\".join(x)))"
   ]
  },
  {
   "cell_type": "code",
   "execution_count": 22,
   "metadata": {
    "collapsed": false,
    "inputHidden": false,
    "outputHidden": false
   },
   "outputs": [
    {
     "data": {
      "text/plain": [
       "748317"
      ]
     },
     "execution_count": 22,
     "metadata": {},
     "output_type": "execute_result"
    }
   ],
   "source": [
    "sum(ans)"
   ]
  },
  {
   "cell_type": "markdown",
   "metadata": {
    "inputHidden": false,
    "outputHidden": false
   },
   "source": [
    "## [Problem 38](https://projecteuler.net/problem=38)\n",
    "Pandigital multiples"
   ]
  },
  {
   "cell_type": "code",
   "execution_count": 23,
   "metadata": {},
   "outputs": [
    {
     "name": "stdout",
     "output_type": "stream",
     "text": [
      "932718654\n"
     ]
    }
   ],
   "source": [
    "#2けた、３けたのときだめだった。。４けたでやってみよう。\n",
    "for i in reversed(range(1,999)):\n",
    "    x=9000+i\n",
    "    tmp=str(x)+str(x*2)\n",
    "    tmp=set(tmp)\n",
    "    if len(tmp)==9 and '0' not in tmp:\n",
    "        print(str(x)+str(x*2))\n",
    "        break"
   ]
  },
  {
   "cell_type": "markdown",
   "metadata": {
    "inputHidden": false,
    "outputHidden": false
   },
   "source": [
    "## [Problem 39](https://projecteuler.net/problem=39)\n",
    "Integer right triangles"
   ]
  },
  {
   "cell_type": "code",
   "execution_count": 24,
   "metadata": {
    "collapsed": false,
    "inputHidden": false,
    "outputHidden": false
   },
   "outputs": [],
   "source": [
    "from math import gcd"
   ]
  },
  {
   "cell_type": "code",
   "execution_count": 40,
   "metadata": {},
   "outputs": [],
   "source": [
    "num = [0 for _ in range(1001)]\n",
    "for m in range(2,23):\n",
    "    for n in range(m-1,0,-2):\n",
    "        if gcd(m,n)==1 and m*(m+n)<=500:\n",
    "            #print(2*m*(m+n),m,n)\n",
    "            num[2*m*(m+n)] += 1"
   ]
  },
  {
   "cell_type": "code",
   "execution_count": 43,
   "metadata": {},
   "outputs": [],
   "source": [
    "for i in range(1000,0,-2):\n",
    "    num_of_i = num[i]\n",
    "    counter = 1\n",
    "    while i*counter<1000:\n",
    "        num[i*counter] += num_of_i\n",
    "        counter += 1"
   ]
  },
  {
   "cell_type": "code",
   "execution_count": 45,
   "metadata": {},
   "outputs": [
    {
     "data": {
      "text/plain": [
       "840"
      ]
     },
     "execution_count": 45,
     "metadata": {},
     "output_type": "execute_result"
    }
   ],
   "source": [
    "num.index(max(num))"
   ]
  },
  {
   "cell_type": "markdown",
   "metadata": {},
   "source": [
    "## [Problem 40](https://projecteuler.net/problem=40)\n",
    "Champernowne's constant"
   ]
  },
  {
   "cell_type": "code",
   "execution_count": 52,
   "metadata": {},
   "outputs": [],
   "source": [
    "champ = [0]\n",
    "\n",
    "for i in range(1,10**6):\n",
    "    i_separate_list = [int(d) for d in str(i)]\n",
    "    for digit in i_separate_list:\n",
    "        champ.append(digit)"
   ]
  },
  {
   "cell_type": "code",
   "execution_count": 57,
   "metadata": {},
   "outputs": [
    {
     "data": {
      "text/plain": [
       "210"
      ]
     },
     "execution_count": 57,
     "metadata": {},
     "output_type": "execute_result"
    }
   ],
   "source": [
    "answer = 1\n",
    "for i in range(7):\n",
    "    answer *= champ[10**i]\n",
    "answer"
   ]
  },
  {
   "cell_type": "code",
   "execution_count": null,
   "metadata": {},
   "outputs": [],
   "source": []
  }
 ],
 "metadata": {
  "kernel_info": {
   "name": "python3"
  },
  "kernelspec": {
   "display_name": "Python 3",
   "language": "python",
   "name": "python3"
  },
  "language_info": {
   "codemirror_mode": {
    "name": "ipython",
    "version": 3
   },
   "file_extension": ".py",
   "mimetype": "text/x-python",
   "name": "python",
   "nbconvert_exporter": "python",
   "pygments_lexer": "ipython3",
   "version": "3.6.5"
  },
  "nteract": {
   "version": "0.11.6"
  }
 },
 "nbformat": 4,
 "nbformat_minor": 4
}
