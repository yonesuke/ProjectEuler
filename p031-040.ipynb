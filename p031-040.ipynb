{
  "cells": [
    {
      "cell_type": "markdown",
      "source": [
        "## [Problem 31](https://projecteuler.net/problem=31)\n",
        "Coin sums"
      ],
      "metadata": {
        "collapsed": false,
        "outputHidden": false,
        "inputHidden": false
      }
    },
    {
      "cell_type": "code",
      "source": [
        "import numpy as np\n",
        "import itertools\n",
        "from tqdm import tqdm"
      ],
      "outputs": [],
      "execution_count": 2,
      "metadata": {
        "collapsed": false,
        "outputHidden": false,
        "inputHidden": false
      }
    },
    {
      "cell_type": "code",
      "source": [
        "#coins=[200,100,50,20,10,5,2,1]\n",
        "coins=[1,2,5,10,20,50,100,200]\n",
        "num=[[0 for _ in range(len(coins))] for _ in range(201)]\n",
        "num[0]=[1 for _ in range(len(coins))]"
      ],
      "outputs": [],
      "execution_count": 3,
      "metadata": {
        "collapsed": false,
        "outputHidden": false,
        "inputHidden": false
      }
    },
    {
      "cell_type": "code",
      "source": [
        "def max_coin(x):\n",
        "    if x == 200:\n",
        "        return coins\n",
        "    for i,coin in enumerate(coins):\n",
        "        if x < coin:\n",
        "            return coins[:i]\n",
        "            break"
      ],
      "outputs": [],
      "execution_count": 4,
      "metadata": {
        "collapsed": false,
        "outputHidden": false,
        "inputHidden": false
      }
    },
    {
      "cell_type": "code",
      "source": [
        "for x in range(1,201):\n",
        "    coin_list=max_coin(x)\n",
        "    for i,coin in enumerate(coin_list):\n",
        "        if x == coin:\n",
        "            num[x][i]=1\n",
        "        else:\n",
        "            num[x][i]=sum(num[x-coin][:i+1])"
      ],
      "outputs": [],
      "execution_count": 5,
      "metadata": {
        "collapsed": false,
        "outputHidden": false,
        "inputHidden": false
      }
    },
    {
      "cell_type": "code",
      "source": [
        "sum(num[200])"
      ],
      "outputs": [
        {
          "output_type": "execute_result",
          "execution_count": 6,
          "data": {
            "text/plain": [
              "73682"
            ]
          },
          "metadata": {}
        }
      ],
      "execution_count": 6,
      "metadata": {
        "collapsed": false,
        "outputHidden": false,
        "inputHidden": false
      }
    },
    {
      "cell_type": "markdown",
      "source": [
        "## [Problem 32](https://projecteuler.net/problem=32)\n",
        "Pandigital products"
      ],
      "metadata": {
        "collapsed": false,
        "outputHidden": false,
        "inputHidden": false
      }
    },
    {
      "cell_type": "code",
      "source": [
        "from sympy import divisors"
      ],
      "outputs": [],
      "execution_count": 7,
      "metadata": {
        "collapsed": false,
        "outputHidden": false,
        "inputHidden": false
      }
    },
    {
      "cell_type": "code",
      "source": [
        "s=set()\n",
        "for i in itertools.permutations(range(1,10),4):\n",
        "    x=divisors(int(\"\".join(map(str,i))))\n",
        "    length=len(x)\n",
        "    if length==2:\n",
        "        continue\n",
        "    for j in range(1,length//2):\n",
        "        tmp=set(str(x[j])+str(x[-(j+1)])+str(i[0])+str(i[1])+str(i[2])+str(i[3]))\n",
        "        if len(tmp)==9 and '0' not in tmp:\n",
        "            #print(tmp)\n",
        "            #ans+=int(\"\".join(map(str,i)))\n",
        "            hoge=int(\"\".join(map(str,i)))\n",
        "            s.add(hoge)"
      ],
      "outputs": [],
      "execution_count": 8,
      "metadata": {
        "collapsed": false,
        "outputHidden": false,
        "inputHidden": false
      }
    },
    {
      "cell_type": "code",
      "source": [
        "print(s)"
      ],
      "outputs": [
        {
          "output_type": "stream",
          "name": "stdout",
          "text": [
            "{5346, 5796, 6952, 4396, 7852, 7632, 7254}\n"
          ]
        }
      ],
      "execution_count": 11,
      "metadata": {
        "collapsed": false,
        "outputHidden": false,
        "inputHidden": false
      }
    },
    {
      "cell_type": "code",
      "source": [
        "print(sum(list(s)))"
      ],
      "outputs": [
        {
          "output_type": "stream",
          "name": "stdout",
          "text": [
            "45228\n"
          ]
        }
      ],
      "execution_count": 9,
      "metadata": {
        "collapsed": false,
        "outputHidden": false,
        "inputHidden": false
      }
    },
    {
      "cell_type": "markdown",
      "source": [
        "## [Problem 33](https://projecteuler.net/problem=33)\n",
        "Digit cancelling fractions"
      ],
      "metadata": {
        "collapsed": false,
        "outputHidden": false,
        "inputHidden": false
      }
    },
    {
      "cell_type": "code",
      "source": [
        "for y in range(1,10):\n",
        "    for i,j in itertools.product(range(1,10),repeat=2):\n",
        "        #iのほうが分母、jのほうが分子\n",
        "        #約分したときに1よりちっちゃくないといかんからi>jみたいな条件で切る。\n",
        "        #iy,yiとjy,yj４通りの組み合わせがあって、そのうち1を超えないものを考える。\n",
        "        if i<=j:\n",
        "            continue\n",
        "        for bunbo in [10*i+y,10*y+i]:\n",
        "            for bunshi in [10*j+y,10*y+j]:\n",
        "                if bunshi/bunbo==j/i:\n",
        "                    print(bunshi,bunbo)"
      ],
      "outputs": [
        {
          "output_type": "stream",
          "name": "stdout",
          "text": [
            "16 64\n",
            "26 65\n",
            "19 95\n",
            "49 98\n"
          ]
        }
      ],
      "execution_count": 10,
      "metadata": {}
    },
    {
      "cell_type": "markdown",
      "source": [
        "$$\n",
        "\\frac{1}{4}\\times\\frac{2}{5}\\times\\frac{1}{5}\\times\\frac{1}{2}=\\frac{1}{100}\n",
        "$$"
      ],
      "metadata": {}
    },
    {
      "cell_type": "markdown",
      "source": [
        "## [Problem 34](https://projecteuler.net/problem=34)\n",
        "Digit factorials"
      ],
      "metadata": {
        "collapsed": false,
        "outputHidden": false,
        "inputHidden": false
      }
    },
    {
      "cell_type": "code",
      "source": [
        "factorial=[1,1,2,6,24,120,720,5040,40320,362880]"
      ],
      "outputs": [],
      "execution_count": 12,
      "metadata": {}
    },
    {
      "cell_type": "code",
      "source": [
        "for x in range(3,10000000):\n",
        "    tmp=list(map(int,list(str(x))))\n",
        "    if x==sum([factorial[x] for x in tmp]):\n",
        "        print(x)"
      ],
      "outputs": [
        {
          "output_type": "stream",
          "name": "stdout",
          "text": [
            "145\n",
            "40585\n"
          ]
        }
      ],
      "execution_count": 28,
      "metadata": {
        "collapsed": false,
        "outputHidden": false,
        "inputHidden": false
      }
    },
    {
      "cell_type": "code",
      "source": [
        "145+40585"
      ],
      "outputs": [
        {
          "output_type": "execute_result",
          "execution_count": 29,
          "data": {
            "text/plain": [
              "40730"
            ]
          },
          "metadata": {}
        }
      ],
      "execution_count": 29,
      "metadata": {
        "collapsed": false,
        "outputHidden": false,
        "inputHidden": false
      }
    },
    {
      "cell_type": "markdown",
      "source": [
        "## [Problem 35](https://projecteuler.net/problem=35)\n",
        "Circular primes"
      ],
      "metadata": {
        "collapsed": false,
        "outputHidden": false,
        "inputHidden": false
      }
    },
    {
      "cell_type": "code",
      "source": [
        "from sympy import primerange,isprime"
      ],
      "outputs": [],
      "execution_count": 30,
      "metadata": {}
    },
    {
      "cell_type": "code",
      "source": [
        "prime=[i for i in primerange(1,10**6)]"
      ],
      "outputs": [],
      "execution_count": 61,
      "metadata": {
        "collapsed": false,
        "outputHidden": false,
        "inputHidden": false
      }
    },
    {
      "cell_type": "code",
      "source": [
        "#2を考慮する\n",
        "ans=[2]\n",
        "even={'0','2','4','6','8'}\n",
        "for i in tqdm(prime):\n",
        "    flag=True\n",
        "    s=set(str(i))\n",
        "    tmp=list(str(i))*2\n",
        "    length=len(str(i))\n",
        "    prime_list=[]\n",
        "    for cut in range(length):\n",
        "        prime_list.append(int(\"\".join(tmp[cut:cut+length])))\n",
        "    if s.isdisjoint(even):\n",
        "        for p in prime_list:\n",
        "            flag=flag and isprime(p)\n",
        "        if flag==True:\n",
        "            ans.append(prime_list)"
      ],
      "outputs": [
        {
          "output_type": "stream",
          "name": "stderr",
          "text": [
            "100%|██████████| 78498/78498 [00:00<00:00, 113156.00it/s]\n"
          ]
        }
      ],
      "execution_count": 111,
      "metadata": {
        "collapsed": false,
        "outputHidden": false,
        "inputHidden": false
      }
    },
    {
      "cell_type": "code",
      "source": [
        "len(ans)"
      ],
      "outputs": [
        {
          "output_type": "execute_result",
          "execution_count": 112,
          "data": {
            "text/plain": [
              "55"
            ]
          },
          "metadata": {}
        }
      ],
      "execution_count": 112,
      "metadata": {
        "collapsed": false,
        "outputHidden": false,
        "inputHidden": false
      }
    },
    {
      "cell_type": "markdown",
      "source": [
        "## [Problem 36](https://projecteuler.net/problem=36)\n",
        "Double-base palindromes"
      ],
      "metadata": {
        "collapsed": false,
        "outputHidden": false,
        "inputHidden": false
      }
    },
    {
      "cell_type": "code",
      "source": [],
      "outputs": [],
      "execution_count": null,
      "metadata": {}
    }
  ],
  "metadata": {
    "kernel_info": {
      "name": "python3"
    },
    "language_info": {
      "name": "python",
      "version": "3.6.5",
      "mimetype": "text/x-python",
      "codemirror_mode": {
        "name": "ipython",
        "version": 3
      },
      "pygments_lexer": "ipython3",
      "nbconvert_exporter": "python",
      "file_extension": ".py"
    },
    "kernelspec": {
      "name": "python3",
      "language": "python",
      "display_name": "Python 3"
    },
    "nteract": {
      "version": "0.11.6"
    }
  },
  "nbformat": 4,
  "nbformat_minor": 4
}