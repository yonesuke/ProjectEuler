{
  "cells": [
    {
      "cell_type": "markdown",
      "source": [
        "## Problem 21\n",
        "Amicable numbers"
      ],
      "metadata": {
        "collapsed": false,
        "outputHidden": false,
        "inputHidden": false
      }
    },
    {
      "cell_type": "code",
      "source": [
        "import numpy as np\n",
        "import sympy\n",
        "from tqdm import tqdm"
      ],
      "outputs": [],
      "execution_count": 152,
      "metadata": {
        "collapsed": false,
        "outputHidden": false,
        "inputHidden": false
      }
    },
    {
      "cell_type": "code",
      "source": [
        "def d(n):\n",
        "    return sum(sympy.divisors(n)[:-1])"
      ],
      "outputs": [],
      "execution_count": 7,
      "metadata": {}
    },
    {
      "cell_type": "code",
      "source": [
        "ans=[x for x in range(1,10001) if x!=d(x) and x==d(d(x))]\n",
        "print(sum(ans))"
      ],
      "outputs": [
        {
          "output_type": "stream",
          "name": "stdout",
          "text": [
            "31626\n"
          ]
        }
      ],
      "execution_count": 9,
      "metadata": {
        "collapsed": false,
        "outputHidden": false,
        "inputHidden": false
      }
    },
    {
      "cell_type": "markdown",
      "source": [
        "## Problem 22\n",
        "Names scores"
      ],
      "metadata": {
        "collapsed": false,
        "outputHidden": false,
        "inputHidden": false
      }
    },
    {
      "cell_type": "code",
      "source": [
        "import string\n",
        "ABC_=[letter for letter in string.ascii_uppercase]"
      ],
      "outputs": [],
      "execution_count": 19,
      "metadata": {}
    },
    {
      "cell_type": "code",
      "source": [
        "ABC={}\n",
        "ABC.update({ABC_[i]:i+1 for i in range(len(ABC_))})"
      ],
      "outputs": [],
      "execution_count": 22,
      "metadata": {
        "collapsed": false,
        "outputHidden": false,
        "inputHidden": false
      }
    },
    {
      "cell_type": "code",
      "source": [
        "def s(name):\n",
        "    num=0\n",
        "    for alphabet in name:\n",
        "        num+=ABC[alphabet]\n",
        "    return num"
      ],
      "outputs": [],
      "execution_count": 23,
      "metadata": {
        "collapsed": false,
        "outputHidden": false,
        "inputHidden": false
      }
    },
    {
      "cell_type": "code",
      "source": [
        "with open(\"p022.txt\") as f:\n",
        "    names=f.read()\n",
        "names=names.split(',')\n",
        "names=sorted([name[1:-1] for name in names])"
      ],
      "outputs": [],
      "execution_count": 35,
      "metadata": {
        "collapsed": false,
        "outputHidden": false,
        "inputHidden": false
      }
    },
    {
      "cell_type": "code",
      "source": [
        "scores=[s(name)*(names.index(name)+1) for name in names]\n",
        "score=sum(scores)\n",
        "print(score)"
      ],
      "outputs": [
        {
          "output_type": "stream",
          "name": "stdout",
          "text": [
            "871198282\n"
          ]
        }
      ],
      "execution_count": 36,
      "metadata": {
        "collapsed": false,
        "outputHidden": false,
        "inputHidden": false
      }
    },
    {
      "cell_type": "markdown",
      "source": [
        "## Problem 23\n",
        "Non-abundant sums"
      ],
      "metadata": {
        "collapsed": false,
        "outputHidden": false,
        "inputHidden": false
      }
    },
    {
      "cell_type": "code",
      "source": [
        "import itertools"
      ],
      "outputs": [],
      "execution_count": 39,
      "metadata": {
        "collapsed": false,
        "outputHidden": false,
        "inputHidden": false
      }
    },
    {
      "cell_type": "code",
      "source": [
        "abundant=[x for x in range(1,28123) if x<d(x)]\n",
        "sum_abundant=[i+j for i,j in itertools.product(abundant,repeat=2) if i+j<28123]"
      ],
      "outputs": [],
      "execution_count": 41,
      "metadata": {}
    },
    {
      "cell_type": "code",
      "source": [
        "ans=set(range(1,28123))-set(sum_abundant)\n",
        "ans=list(ans)\n",
        "print(sum(ans))"
      ],
      "outputs": [
        {
          "output_type": "stream",
          "name": "stdout",
          "text": [
            "4179871\n"
          ]
        }
      ],
      "execution_count": 43,
      "metadata": {
        "collapsed": false,
        "outputHidden": false,
        "inputHidden": false
      }
    },
    {
      "cell_type": "markdown",
      "source": [
        "## Problem 24\n",
        "Lexicographic permutations"
      ],
      "metadata": {
        "collapsed": false,
        "outputHidden": false,
        "inputHidden": false
      }
    },
    {
      "cell_type": "code",
      "source": [
        "digits=[letter for letter in string.digits]"
      ],
      "outputs": [],
      "execution_count": 48,
      "metadata": {
        "collapsed": false,
        "outputHidden": false,
        "inputHidden": false
      }
    },
    {
      "cell_type": "code",
      "source": [
        "def number(n):\n",
        "    return [digits[i] for i in n]"
      ],
      "outputs": [],
      "execution_count": 49,
      "metadata": {
        "collapsed": false,
        "outputHidden": false,
        "inputHidden": false
      }
    },
    {
      "cell_type": "code",
      "source": [
        "order=[number(n) for n in itertools.permutations(range(10))]"
      ],
      "outputs": [],
      "execution_count": 58,
      "metadata": {
        "collapsed": false,
        "outputHidden": false,
        "inputHidden": false
      }
    },
    {
      "cell_type": "code",
      "source": [
        "ans_list=order[10**6-1]\n",
        "ans_str=\"\"\n",
        "for x in ans_list:\n",
        "    ans_str+=x\n",
        "ans=int(ans_str)\n",
        "print(ans)"
      ],
      "outputs": [
        {
          "output_type": "stream",
          "name": "stdout",
          "text": [
            "2783915460\n"
          ]
        }
      ],
      "execution_count": 67,
      "metadata": {
        "collapsed": false,
        "outputHidden": false,
        "inputHidden": false
      }
    },
    {
      "cell_type": "markdown",
      "source": [
        "## Problem 25\n",
        "1000-digit Fibonacci number"
      ],
      "metadata": {
        "collapsed": false,
        "outputHidden": false,
        "inputHidden": false
      }
    },
    {
      "cell_type": "code",
      "source": [
        "from math import sqrt\n",
        "from math import log10"
      ],
      "outputs": [],
      "execution_count": 77,
      "metadata": {}
    },
    {
      "cell_type": "code",
      "source": [
        "phi=log10((1+sqrt(5))/2)\n",
        "psi=0.5*log10(5)"
      ],
      "outputs": [],
      "execution_count": 84,
      "metadata": {
        "collapsed": false,
        "outputHidden": false,
        "inputHidden": false
      }
    },
    {
      "cell_type": "code",
      "source": [
        "digit=0\n",
        "num=0\n",
        "while digit<999:\n",
        "    num+=1\n",
        "    digit=num*phi-psi\n",
        "print(num)    "
      ],
      "outputs": [
        {
          "output_type": "stream",
          "name": "stdout",
          "text": [
            "4782\n"
          ]
        }
      ],
      "execution_count": 87,
      "metadata": {
        "collapsed": false,
        "outputHidden": false,
        "inputHidden": false
      }
    },
    {
      "cell_type": "markdown",
      "source": [
        "## Problem 26\n",
        "Reciprocal cycles"
      ],
      "metadata": {
        "collapsed": false,
        "outputHidden": false,
        "inputHidden": false
      }
    },
    {
      "cell_type": "code",
      "source": [
        "divisor=list(sympy.primerange(0,1000))\n",
        "divisor.remove(2)\n",
        "divisor.remove(5)"
      ],
      "outputs": [],
      "execution_count": 110,
      "metadata": {}
    },
    {
      "cell_type": "code",
      "source": [
        "def cycle(n):\n",
        "    y=9\n",
        "    ans=1\n",
        "    while y%n!=0:\n",
        "        ans+=1\n",
        "        y=y*10+9\n",
        "    return ans"
      ],
      "outputs": [],
      "execution_count": 102,
      "metadata": {
        "collapsed": false,
        "outputHidden": false,
        "inputHidden": false
      }
    },
    {
      "cell_type": "code",
      "source": [
        "ans=0\n",
        "for x in divisor:\n",
        "    tmp=cycle(x)\n",
        "    if tmp>ans:\n",
        "        ans=tmp\n",
        "        prime=x\n",
        "print(prime)"
      ],
      "outputs": [
        {
          "output_type": "stream",
          "name": "stdout",
          "text": [
            "983\n"
          ]
        }
      ],
      "execution_count": 116,
      "metadata": {
        "collapsed": false,
        "outputHidden": false,
        "inputHidden": false
      }
    },
    {
      "cell_type": "markdown",
      "source": [
        "## Problem 27\n",
        "Quadratic primes"
      ],
      "metadata": {}
    },
    {
      "cell_type": "code",
      "source": [
        "A=list(range(-999,1000,2))\n",
        "B=list(sympy.primerange(0,1000))\n",
        "B_=[-x for x in B]\n",
        "B.extend(B_)"
      ],
      "outputs": [],
      "execution_count": 121,
      "metadata": {
        "collapsed": false,
        "outputHidden": false,
        "inputHidden": false
      }
    },
    {
      "cell_type": "code",
      "source": [
        "def quadra(a,b,n):\n",
        "    return n**2+a*n+b\n",
        "\n",
        "def num_quadratic_prime(a,b):\n",
        "    n=0\n",
        "    tmp=quadra(a,b,n)\n",
        "    while sympy.isprime(tmp):\n",
        "        n+=1\n",
        "        tmp=quadra(a,b,n)\n",
        "    return n        "
      ],
      "outputs": [],
      "execution_count": 126,
      "metadata": {
        "collapsed": false,
        "outputHidden": false,
        "inputHidden": false
      }
    },
    {
      "cell_type": "code",
      "source": [
        "max_num=0\n",
        "for a,b in itertools.product(A,B):\n",
        "    tmp=num_quadratic_prime(a,b)\n",
        "    if tmp>max_num:\n",
        "        max_num=tmp\n",
        "        ans=a*b\n",
        "print(ans)"
      ],
      "outputs": [
        {
          "output_type": "stream",
          "name": "stdout",
          "text": [
            "-59231\n"
          ]
        }
      ],
      "execution_count": 128,
      "metadata": {
        "collapsed": false,
        "outputHidden": false,
        "inputHidden": false
      }
    },
    {
      "cell_type": "markdown",
      "source": [
        "## Problem 28\n",
        "Number spiral diagonals"
      ],
      "metadata": {}
    },
    {
      "cell_type": "code",
      "source": [
        "def spiral(n):\n",
        "    ans=1\n",
        "    diag=[1]\n",
        "    step=0\n",
        "    for i in range(n//2):\n",
        "        step+=2\n",
        "        tmp=diag[-1]+step\n",
        "        diag=[tmp+x*step for x in range(4)]\n",
        "        ans+=sum(diag)\n",
        "    return ans"
      ],
      "outputs": [],
      "execution_count": 132,
      "metadata": {
        "collapsed": false,
        "outputHidden": false,
        "inputHidden": false
      }
    },
    {
      "cell_type": "code",
      "source": [
        "print(spiral(1001))"
      ],
      "outputs": [
        {
          "output_type": "stream",
          "name": "stdout",
          "text": [
            "669171001\n"
          ]
        }
      ],
      "execution_count": 135,
      "metadata": {
        "collapsed": false,
        "outputHidden": false,
        "inputHidden": false
      }
    },
    {
      "cell_type": "markdown",
      "source": [
        "## Problem 29\n",
        "Distinct powers"
      ],
      "metadata": {}
    },
    {
      "cell_type": "code",
      "source": [
        "combi=itertools.product(range(2,101),repeat=2)"
      ],
      "outputs": [],
      "execution_count": 142,
      "metadata": {
        "collapsed": false,
        "outputHidden": false,
        "inputHidden": false
      }
    },
    {
      "cell_type": "code",
      "source": [
        "ans=[0 for _ in range(99**2)]\n",
        "k=0\n",
        "for a,b in combi:\n",
        "    ans[k]=a**b\n",
        "    k+=1\n",
        "ans=list(set(ans))\n",
        "print(len(ans))"
      ],
      "outputs": [
        {
          "output_type": "stream",
          "name": "stdout",
          "text": [
            "9183\n"
          ]
        }
      ],
      "execution_count": 143,
      "metadata": {
        "collapsed": false,
        "outputHidden": false,
        "inputHidden": false
      }
    },
    {
      "cell_type": "markdown",
      "source": [
        "## Problem 30\n",
        "Digit fifth powers"
      ],
      "metadata": {}
    },
    {
      "cell_type": "code",
      "source": [
        "def digit_power_sum(n,d):\n",
        "    ans=0\n",
        "    num=map(int,str(n))\n",
        "    for x in num:\n",
        "        ans+=x**d\n",
        "    return ans"
      ],
      "outputs": [],
      "execution_count": 148,
      "metadata": {
        "collapsed": false,
        "outputHidden": false,
        "inputHidden": false
      }
    },
    {
      "cell_type": "code",
      "source": [
        "d=5\n",
        "ans=0\n",
        "for i in tqdm(range(2,10**7)):\n",
        "    if digit_power_sum(i,d)==i:\n",
        "        ans+=i\n",
        "print(ans)"
      ],
      "outputs": [
        {
          "output_type": "stream",
          "name": "stderr",
          "text": [
            "100%|██████████| 9999998/9999998 [00:47<00:00, 211754.62it/s]\n"
          ]
        },
        {
          "output_type": "stream",
          "name": "stdout",
          "text": [
            "443839\n"
          ]
        }
      ],
      "execution_count": 153,
      "metadata": {
        "collapsed": false,
        "outputHidden": false,
        "inputHidden": false
      }
    },
    {
      "cell_type": "code",
      "source": [],
      "outputs": [],
      "execution_count": null,
      "metadata": {
        "collapsed": false,
        "outputHidden": false,
        "inputHidden": false
      }
    }
  ],
  "metadata": {
    "kernel_info": {
      "name": "python3"
    },
    "language_info": {
      "name": "python",
      "version": "3.6.5",
      "mimetype": "text/x-python",
      "codemirror_mode": {
        "name": "ipython",
        "version": 3
      },
      "pygments_lexer": "ipython3",
      "nbconvert_exporter": "python",
      "file_extension": ".py"
    },
    "kernelspec": {
      "name": "python3",
      "language": "python",
      "display_name": "Python 3"
    },
    "nteract": {
      "version": "0.11.6"
    }
  },
  "nbformat": 4,
  "nbformat_minor": 4
}