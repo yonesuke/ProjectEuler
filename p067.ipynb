{
  "cells": [
    {
      "cell_type": "markdown",
      "source": [
        "## Problem 67\n",
        "Maximum path sum II"
      ],
      "metadata": {
        "collapsed": false,
        "outputHidden": false,
        "inputHidden": false
      }
    },
    {
      "cell_type": "code",
      "source": [
        "with open(\"p067.txt\") as f:\n",
        "    l = f.readlines()\n",
        "triangle = []\n",
        "for line in l:\n",
        "    line = line.split()\n",
        "    a = [int(i) for i in line]\n",
        "    triangle.append(a)"
      ],
      "outputs": [],
      "execution_count": 7,
      "metadata": {}
    },
    {
      "cell_type": "code",
      "source": [
        "dp = [[0 for _ in range(100)] for _ in range(100)]"
      ],
      "outputs": [],
      "execution_count": 8,
      "metadata": {
        "collapsed": false,
        "outputHidden": false,
        "inputHidden": false
      }
    },
    {
      "cell_type": "code",
      "source": [
        "dp[0][0]=triangle[0][0]\n",
        "for i in range(1,100):\n",
        "    for j in range(i+1):\n",
        "        dp[i][j]=dp[i][j]=dp[i-1][j]+triangle[i][j] if dp[i-1][j]>dp[i-1][j-1] else dp[i-1][j-1]+triangle[i][j]\n",
        "#dp\n",
        "max(max(dp))"
      ],
      "outputs": [
        {
          "output_type": "execute_result",
          "execution_count": 9,
          "data": {
            "text/plain": [
              "7273"
            ]
          },
          "metadata": {}
        }
      ],
      "execution_count": 9,
      "metadata": {
        "collapsed": false,
        "outputHidden": false,
        "inputHidden": false
      }
    },
    {
      "cell_type": "code",
      "source": [],
      "outputs": [],
      "execution_count": null,
      "metadata": {
        "collapsed": false,
        "outputHidden": false,
        "inputHidden": false
      }
    }
  ],
  "metadata": {
    "kernel_info": {
      "name": "python3"
    },
    "language_info": {
      "name": "python",
      "version": "3.6.5",
      "mimetype": "text/x-python",
      "codemirror_mode": {
        "name": "ipython",
        "version": 3
      },
      "pygments_lexer": "ipython3",
      "nbconvert_exporter": "python",
      "file_extension": ".py"
    },
    "kernelspec": {
      "name": "python3",
      "language": "python",
      "display_name": "Python 3"
    },
    "nteract": {
      "version": "0.11.6"
    }
  },
  "nbformat": 4,
  "nbformat_minor": 4
}