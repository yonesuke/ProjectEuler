{
 "cells": [
  {
   "cell_type": "markdown",
   "metadata": {},
   "source": [
    "## [Problem 51](https://projecteuler.net/problem=51)\n",
    "Prime digit replacements"
   ]
  },
  {
   "cell_type": "code",
   "execution_count": 14,
   "metadata": {},
   "outputs": [],
   "source": [
    "from sympy import sieve\n",
    "import numpy as np"
   ]
  },
  {
   "cell_type": "code",
   "execution_count": 15,
   "metadata": {},
   "outputs": [],
   "source": [
    "N=6\n",
    "primes=[i for i in sieve.primerange(10**(N-1),10**N)]\n",
    "#1を3回使うものの桁\n",
    "diffs=[(k,j,i) for i in range(1,N) for j in range(i+1,N) for k in range(j+1,N)]"
   ]
  },
  {
   "cell_type": "code",
   "execution_count": 16,
   "metadata": {
    "tags": [
     "outputPrepend"
    ]
   },
   "outputs": [
    {
     "name": "stdout",
     "output_type": "stream",
     "text": [
      "{121313, 323333, 525353, 929393, 222323, 424343, 626363, 828383}\n",
      "{121313, 323333, 525353, 929393, 222323, 424343, 626363, 828383}\n",
      "{121313, 323333, 525353, 929393, 222323, 424343, 626363, 828383}\n",
      "{121313, 323333, 525353, 929393, 222323, 424343, 626363, 828383}\n"
     ]
    }
   ],
   "source": [
    "intersections=[]\n",
    "for diff_kji in diffs:\n",
    "    k,j,i=diff_kji\n",
    "    diff=10**k+10**j+10**i\n",
    "    prime_list=[_i for _i in primes if str(_i)[N-k-1]==str(_i)[N-j-1]==str(_i)[N-i-1]]\n",
    "    prime_set=set(prime_list)\n",
    "    prime_array=np.array(prime_list)\n",
    "    #3連続は絶対にあるはず\n",
    "    #intersection=[[{_i,_i+diff,_i+2*diff},[int(_k) for counter,_k in enumerate(str(_i)) if 6-counter-1 not in {k,j,i}]] for _i in prime_list if {_i,_i+diff,_i+2*diff} <= prime_set]\n",
    "    ketas=[N-counter-1 for counter in range(N) if N-counter-1 not in {k,j,i}]\n",
    "    intersection=[[int(_k) for counter,_k in enumerate(str(_i)) if N-counter-1 not in {k,j,i}] for _i in prime_list if {_i,_i+diff,_i+2*diff} <= prime_set]\n",
    "    possibles=[10**ketas[0]*_i[0]+10**ketas[1]*_i[1]+10**ketas[2]*_i[2] for _i in intersection]\n",
    "    possibles=[set([possible+_i*diff for _i in range(10)]) for possible in possibles]\n",
    "    for p in possibles:\n",
    "        if len(p & prime_set)==8:\n",
    "            print(p & prime_set)"
   ]
  },
  {
   "cell_type": "markdown",
   "metadata": {},
   "source": [
    "## [Problem 53](https://projecteuler.net/problem=53)\n",
    "Combinatoric selections"
   ]
  },
  {
   "cell_type": "code",
   "execution_count": 18,
   "metadata": {},
   "outputs": [],
   "source": [
    "dp=[[1]]\n",
    "for n in range(1,101):\n",
    "    l=[1]\n",
    "    for r in range(1,n):\n",
    "        l.append(dp[n-1][r-1]+dp[n-1][r])\n",
    "    l.append(1)\n",
    "    dp.append(l.copy())"
   ]
  },
  {
   "cell_type": "code",
   "execution_count": 19,
   "metadata": {},
   "outputs": [
    {
     "name": "stdout",
     "output_type": "stream",
     "text": [
      "4075\n"
     ]
    }
   ],
   "source": [
    "ans_list=[1 for l in dp for x in l if x>10**6]\n",
    "print(len(ans_list))"
   ]
  },
  {
   "attachments": {},
   "cell_type": "markdown",
   "metadata": {},
   "source": [
    "## [Problem 54](https://projecteuler.net/problem=54)\n",
    "\n",
    "<p>In the card game poker, a hand consists of five cards and are ranked, from lowest to highest, in the following way:</p>\n",
    "<ul><li><b>High Card</b>: Highest value card.</li>\n",
    "<li><b>One Pair</b>: Two cards of the same value.</li>\n",
    "<li><b>Two Pairs</b>: Two different pairs.</li>\n",
    "<li><b>Three of a Kind</b>: Three cards of the same value.</li>\n",
    "<li><b>Straight</b>: All cards are consecutive values.</li>\n",
    "<li><b>Flush</b>: All cards of the same suit.</li>\n",
    "<li><b>Full House</b>: Three of a kind and a pair.</li>\n",
    "<li><b>Four of a Kind</b>: Four cards of the same value.</li>\n",
    "<li><b>Straight Flush</b>: All cards are consecutive values of same suit.</li>\n",
    "<li><b>Royal Flush</b>: Ten, Jack, Queen, King, Ace, in same suit.</li>\n",
    "</ul><p>The cards are valued in the order:<br />2, 3, 4, 5, 6, 7, 8, 9, 10, Jack, Queen, King, Ace.</p>\n",
    "<p>If two players have the same ranked hands then the rank made up of the highest value wins; for example, a pair of eights beats a pair of fives (see example 1 below). But if two ranks tie, for example, both players have a pair of queens, then highest cards in each hand are compared (see example 4 below); if the highest cards tie then the next highest cards are compared, and so on.</p>\n",
    "<p>Consider the following five hands dealt to two players:</p>\n",
    "<div class=\"center\">\n",
    "<table><tr><td><b>Hand</b></td><td> </td><td><b>Player 1</b></td><td> </td><td><b>Player 2</b></td><td> </td><td><b>Winner</b></td>\n",
    "</tr><tr><td><b>1</b></td><td> </td><td>5H 5C 6S 7S KD<br /><div class=\"smaller\">Pair of Fives</div></td><td> </td><td>2C 3S 8S 8D TD<br /><div class=\"smaller\">Pair of Eights</div></td><td> </td><td>Player 2</td>\n",
    "</tr><tr><td><b>2</b></td><td> </td><td>5D 8C 9S JS AC<br /><div class=\"smaller\">Highest card Ace</div></td><td> </td><td>2C 5C 7D 8S QH<br /><div class=\"smaller\">Highest card Queen</div></td><td> </td><td>Player 1</td>\n",
    "</tr><tr><td><b>3</b></td><td> </td><td>2D 9C AS AH AC<br /><div class=\"smaller\">Three Aces</div></td><td> </td><td>3D 6D 7D TD QD<br /><div class=\"smaller\">Flush  with Diamonds</div></td><td> </td><td>Player 2</td>\n",
    "</tr><tr><td><b>4</b></td><td> </td><td>4D 6S 9H QH QC<br /><div class=\"smaller\">Pair of Queens<br />Highest card Nine</div></td><td> </td><td>3D 6D 7H QD QS<br /><div class=\"smaller\">Pair of Queens<br />Highest card Seven</div></td><td> </td><td>Player 1</td>\n",
    "</tr><tr><td><b>5</b></td><td> </td><td>2H 2D 4C 4D 4S<br /><div class=\"smaller\">Full House<br />With Three Fours</div></td><td> </td><td>3C 3D 3S 9S 9D<br /><div class=\"smaller\">Full House<br />with Three Threes</div></td><td> </td><td>Player 1</td>\n",
    "</tr></table></div>\n",
    "<p>The file, <a href=\"data/p054.txt\">poker.txt</a>, contains one-thousand random hands dealt to two players. Each line of the file contains ten cards (separated by a single space): the first five are Player 1's cards and the last five are Player 2's cards. You can assume that all hands are valid (no invalid characters or repeated cards), each player's hand is in no specific order, and in each hand there is a clear winner.</p>\n",
    "<p>How many hands does Player 1 win?</p>"
   ]
  },
  {
   "cell_type": "code",
   "execution_count": null,
   "metadata": {},
   "outputs": [],
   "source": [
    "class Card:\n",
    "    def __init__(self, card_str) -> None:\n",
    "        assert type(card_str) == str\n",
    "        assert len(card_str) == 2\n",
    "        card0 = card_str[0]\n",
    "        card1 = card_str[1]\n",
    "        \n",
    "\n",
    "\n",
    "class Hand:\n",
    "    def __init__(self, cards_str) -> None:\n",
    "        pass"
   ]
  },
  {
   "cell_type": "code",
   "execution_count": 1,
   "metadata": {},
   "outputs": [],
   "source": [
    "with open(\"data/p054.txt\") as f:\n",
    "    lines = f.read().splitlines()"
   ]
  },
  {
   "cell_type": "code",
   "execution_count": 4,
   "metadata": {},
   "outputs": [
    {
     "data": {
      "text/plain": [
       "['8C', 'TS', 'KC', '9H', '4S', '7D', '2S', '5D', '3S', 'AC']"
      ]
     },
     "execution_count": 4,
     "metadata": {},
     "output_type": "execute_result"
    }
   ],
   "source": [
    "lines[0].split(\" \")"
   ]
  },
  {
   "attachments": {},
   "cell_type": "markdown",
   "metadata": {},
   "source": [
    "## [Problem 55](https://projecteuler.net/problem=55)\n",
    "\n",
    "<p>If we take 47, reverse and add, 47 + 74 = 121, which is palindromic.</p>\n",
    "<p>Not all numbers produce palindromes so quickly. For example,</p>\n",
    "<p class=\"margin_left\">349 + 943 = 1292,<br />\n",
    "1292 + 2921 = 4213<br />\n",
    "4213 + 3124 = 7337</p>\n",
    "<p>That is, 349 took three iterations to arrive at a palindrome.</p>\n",
    "<p>Although no one has proved it yet, it is thought that some numbers, like 196, never produce a palindrome. A number that never forms a palindrome through the reverse and add process is called a Lychrel number. Due to the theoretical nature of these numbers, and for the purpose of this problem, we shall assume that a number is Lychrel until proven otherwise. In addition you are given that for every number below ten-thousand, it will either (i) become a palindrome in less than fifty iterations, or, (ii) no one, with all the computing power that exists, has managed so far to map it to a palindrome. In fact, 10677 is the first number to be shown to require over fifty iterations before producing a palindrome: 4668731596684224866951378664 (53 iterations, 28-digits).</p>\n",
    "<p>Surprisingly, there are palindromic numbers that are themselves Lychrel numbers; the first example is 4994.</p>\n",
    "<p>How many Lychrel numbers are there below ten-thousand?</p>\n",
    "<p class=\"smaller\">NOTE: Wording was modified slightly on 24 April 2007 to emphasise the theoretical nature of Lychrel numbers.</p>"
   ]
  },
  {
   "cell_type": "code",
   "execution_count": null,
   "metadata": {},
   "outputs": [],
   "source": []
  },
  {
   "attachments": {},
   "cell_type": "markdown",
   "metadata": {},
   "source": [
    "## Problem 56"
   ]
  },
  {
   "cell_type": "code",
   "execution_count": 8,
   "metadata": {},
   "outputs": [
    {
     "name": "stdout",
     "output_type": "stream",
     "text": [
      "972\n"
     ]
    }
   ],
   "source": [
    "def val2str(val):\n",
    "    ans = 0\n",
    "    while val != 0:\n",
    "        ans += val % 10\n",
    "        val //= 10\n",
    "    return ans\n",
    "\n",
    "a_max, b_max = 100, 100\n",
    "max_vals = []\n",
    "for a in range(2, a_max):\n",
    "    max_val = 0\n",
    "    val = 1\n",
    "    for b in range(1, b_max):\n",
    "        val *= a\n",
    "        val_sum = val2str(val)\n",
    "        max_val = max(max_val, val_sum)\n",
    "    max_vals.append(max_val)\n",
    "\n",
    "print(max(max_vals))"
   ]
  },
  {
   "attachments": {},
   "cell_type": "markdown",
   "metadata": {},
   "source": [
    "## Problem 57"
   ]
  },
  {
   "cell_type": "code",
   "execution_count": 13,
   "metadata": {},
   "outputs": [
    {
     "name": "stdout",
     "output_type": "stream",
     "text": [
      "153\n"
     ]
    }
   ],
   "source": [
    "from math import log10\n",
    "\n",
    "def keta(n):\n",
    "    return int(log10(n)) + 1\n",
    "\n",
    "# fraction_keta_check\n",
    "a, b = 2, 3\n",
    "counter = 0\n",
    "for i in range(1000):\n",
    "    a, b = a + b, 2 * a + b\n",
    "    if keta(b) > keta(a):\n",
    "        counter += 1\n",
    "print(counter)"
   ]
  },
  {
   "attachments": {},
   "cell_type": "markdown",
   "metadata": {},
   "source": [
    "## Problem 58"
   ]
  },
  {
   "cell_type": "code",
   "execution_count": null,
   "metadata": {},
   "outputs": [],
   "source": []
  }
 ],
 "metadata": {
  "kernelspec": {
   "display_name": "Python 3",
   "language": "python",
   "name": "python3"
  },
  "language_info": {
   "codemirror_mode": {
    "name": "ipython",
    "version": 3
   },
   "file_extension": ".py",
   "mimetype": "text/x-python",
   "name": "python",
   "nbconvert_exporter": "python",
   "pygments_lexer": "ipython3",
   "version": "3.10.10"
  },
  "orig_nbformat": 2,
  "vscode": {
   "interpreter": {
    "hash": "088767124c5d64aba5e4c8506619a3c8d86ef4cc399b06b729ad9656573e11f6"
   }
  }
 },
 "nbformat": 4,
 "nbformat_minor": 2
}
