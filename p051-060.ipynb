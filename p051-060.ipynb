{
 "cells": [
  {
   "cell_type": "markdown",
   "metadata": {},
   "source": [
    "## [Problem 51](https://projecteuler.net/problem=51)\n",
    "Prime digit replacements"
   ]
  },
  {
   "cell_type": "code",
   "execution_count": 21,
   "metadata": {},
   "outputs": [],
   "source": [
    "from sympy import sieve\n",
    "import numpy as np"
   ]
  },
  {
   "cell_type": "code",
   "execution_count": 199,
   "metadata": {},
   "outputs": [],
   "source": [
    "N=6\n",
    "primes=[i for i in sieve.primerange(10**(N-1),10**N)]\n",
    "#1を3回使うものの桁\n",
    "diffs=[(k,j,i) for i in range(1,N) for j in range(i+1,N) for k in range(j+1,N)]"
   ]
  },
  {
   "cell_type": "code",
   "execution_count": 201,
   "metadata": {
    "tags": [
     "outputPrepend"
    ]
   },
   "outputs": [
    {
     "output_type": "stream",
     "name": "stdout",
     "text": "{121313, 323333, 525353, 929393, 222323, 424343, 626363, 828383}\n{121313, 323333, 525353, 929393, 222323, 424343, 626363, 828383}\n{121313, 323333, 525353, 929393, 222323, 424343, 626363, 828383}\n{121313, 323333, 525353, 929393, 222323, 424343, 626363, 828383}\n"
    }
   ],
   "source": [
    "intersections=[]\n",
    "for diff_kji in diffs:\n",
    "    k,j,i=diff_kji\n",
    "    diff=10**k+10**j+10**i\n",
    "    prime_list=[_i for _i in primes if str(_i)[N-k-1]==str(_i)[N-j-1]==str(_i)[N-i-1]]\n",
    "    prime_set=set(prime_list)\n",
    "    prime_array=np.array(prime_list)\n",
    "    #3連続は絶対にあるはず\n",
    "    #intersection=[[{_i,_i+diff,_i+2*diff},[int(_k) for counter,_k in enumerate(str(_i)) if 6-counter-1 not in {k,j,i}]] for _i in prime_list if {_i,_i+diff,_i+2*diff} <= prime_set]\n",
    "    ketas=[N-counter-1 for counter in range(N) if N-counter-1 not in {k,j,i}]\n",
    "    intersection=[[int(_k) for counter,_k in enumerate(str(_i)) if N-counter-1 not in {k,j,i}] for _i in prime_list if {_i,_i+diff,_i+2*diff} <= prime_set]\n",
    "    possibles=[10**ketas[0]*_i[0]+10**ketas[1]*_i[1]+10**ketas[2]*_i[2] for _i in intersection]\n",
    "    possibles=[set([possible+_i*diff for _i in range(10)]) for possible in possibles]\n",
    "    for p in possibles:\n",
    "        if len(p & prime_set)==8:\n",
    "            print(p & prime_set)"
   ]
  },
  {
   "cell_type": "markdown",
   "metadata": {},
   "source": [
    "## [Problem 53](https://projecteuler.net/problem=53)\n",
    "Combinatoric selections"
   ]
  },
  {
   "cell_type": "code",
   "execution_count": 202,
   "metadata": {},
   "outputs": [],
   "source": [
    "import numpy as np"
   ]
  },
  {
   "cell_type": "code",
   "execution_count": 203,
   "metadata": {},
   "outputs": [],
   "source": [
    "dp=[[1]]\n",
    "for n in range(1,101):\n",
    "    l=[1]\n",
    "    for r in range(1,n):\n",
    "        l.append(dp[n-1][r-1]+dp[n-1][r])\n",
    "    l.append(1)\n",
    "    dp.append(l.copy())"
   ]
  },
  {
   "cell_type": "code",
   "execution_count": 212,
   "metadata": {},
   "outputs": [
    {
     "output_type": "stream",
     "name": "stdout",
     "text": "4075\n"
    }
   ],
   "source": [
    "ans_list=[1 for l in dp for x in l if x>10**6]\n",
    "print(len(ans_list))"
   ]
  },
  {
   "cell_type": "code",
   "execution_count": null,
   "metadata": {},
   "outputs": [],
   "source": []
  }
 ],
 "metadata": {
  "language_info": {
   "codemirror_mode": {
    "name": "ipython",
    "version": 3
   },
   "file_extension": ".py",
   "mimetype": "text/x-python",
   "name": "python",
   "nbconvert_exporter": "python",
   "pygments_lexer": "ipython3",
   "version": "3.7.0-final"
  },
  "orig_nbformat": 2,
  "kernelspec": {
   "name": "python3",
   "display_name": "Python 3"
  }
 },
 "nbformat": 4,
 "nbformat_minor": 2
}