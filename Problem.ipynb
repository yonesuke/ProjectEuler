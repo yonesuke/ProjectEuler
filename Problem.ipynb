{
  "cells": [
    {
      "cell_type": "markdown",
      "source": [
        "## Problem 11\n",
        "Largest product in a grid"
      ],
      "metadata": {
        "collapsed": false,
        "outputHidden": false,
        "inputHidden": false
      }
    },
    {
      "cell_type": "code",
      "source": [
        "import numpy as np\n",
        "import itertools"
      ],
      "outputs": [],
      "execution_count": 7,
      "metadata": {}
    },
    {
      "cell_type": "code",
      "source": [
        "a = np.loadtxt(\"p11.txt\")\n",
        "N = 20"
      ],
      "outputs": [],
      "execution_count": 9,
      "metadata": {}
    },
    {
      "cell_type": "code",
      "source": [
        "greatest_product=0\n",
        "for i,j in itertools.product(range(N),range(N)):\n",
        "    #down\n",
        "    product = 1\n",
        "    for k in range(4):\n",
        "        product *= a[i][(j+k)%N]\n",
        "    if product > greatest_product:\n",
        "        greatest_product = product\n",
        "    #left\n",
        "    product = 1\n",
        "    for k in range(4):\n",
        "        product *= a[(i+k)%N][j]\n",
        "    if product > greatest_product:\n",
        "        greatest_product = product\n",
        "    #diagonally_right\n",
        "    product = 1\n",
        "    for k in range(4):\n",
        "        product *= a[(i+k)%N][(j+k)%N]\n",
        "    if product > greatest_product:\n",
        "        greatest_product = product\n",
        "    #diagonally_left\n",
        "    product = 1\n",
        "    for k in range(4):\n",
        "        product *= a[(i-k)%N][(j+k)%N]\n",
        "    if product > greatest_product:\n",
        "        greatest_product = product\n",
        "    "
      ],
      "outputs": [],
      "execution_count": 25,
      "metadata": {
        "collapsed": false,
        "outputHidden": false,
        "inputHidden": false
      }
    },
    {
      "cell_type": "code",
      "source": [
        "greatest_product"
      ],
      "outputs": [
        {
          "output_type": "execute_result",
          "execution_count": 26,
          "data": {
            "text/plain": [
              "70600674.0"
            ]
          },
          "metadata": {}
        }
      ],
      "execution_count": 26,
      "metadata": {
        "collapsed": false,
        "outputHidden": false,
        "inputHidden": false
      }
    },
    {
      "cell_type": "markdown",
      "source": [
        "## Problem 12\n",
        "Highly divisible triangular number"
      ],
      "metadata": {
        "collapsed": false,
        "outputHidden": false,
        "inputHidden": false
      }
    },
    {
      "cell_type": "code",
      "source": [
        "def divisible_num(n):\n",
        "    num=1\n",
        "    hoge=sympy.factorint(n)\n",
        "    for i in hoge:\n",
        "        num *= (hoge[i]+1)\n",
        "    return num"
      ],
      "outputs": [],
      "execution_count": 83,
      "metadata": {
        "collapsed": false,
        "outputHidden": false,
        "inputHidden": false
      }
    },
    {
      "cell_type": "code",
      "source": [
        "N=0\n",
        "for i in range(1,1000000):\n",
        "    N+=i\n",
        "    #print(N)\n",
        "    if divisible_num(N)>500:\n",
        "        break\n",
        "print(N)"
      ],
      "outputs": [
        {
          "output_type": "stream",
          "name": "stdout",
          "text": [
            "76576500\n"
          ]
        }
      ],
      "execution_count": 95,
      "metadata": {}
    },
    {
      "cell_type": "markdown",
      "source": [
        "## Problem 13\n",
        "Large sum"
      ],
      "metadata": {
        "collapsed": false,
        "outputHidden": false,
        "inputHidden": false
      }
    },
    {
      "cell_type": "code",
      "source": [],
      "outputs": [],
      "execution_count": null,
      "metadata": {}
    }
  ],
  "metadata": {
    "kernel_info": {
      "name": "python3"
    },
    "language_info": {
      "name": "python",
      "version": "3.6.5",
      "mimetype": "text/x-python",
      "codemirror_mode": {
        "name": "ipython",
        "version": 3
      },
      "pygments_lexer": "ipython3",
      "nbconvert_exporter": "python",
      "file_extension": ".py"
    },
    "kernelspec": {
      "name": "python3",
      "language": "python",
      "display_name": "Python 3"
    },
    "nteract": {
      "version": "0.11.6"
    }
  },
  "nbformat": 4,
  "nbformat_minor": 4
}