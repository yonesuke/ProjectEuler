{
 "cells": [
  {
   "cell_type": "markdown",
   "metadata": {},
   "source": [
    "## [Problem 41](https://projecteuler.net/problem=41)\n",
    "Pandigital prime"
   ]
  },
  {
   "cell_type": "code",
   "execution_count": 16,
   "metadata": {},
   "outputs": [],
   "source": [
    "import itertools\n",
    "from sympy import isprime\n",
    "seq = [7,6,5,4,3,2,1]"
   ]
  },
  {
   "cell_type": "code",
   "execution_count": 17,
   "metadata": {},
   "outputs": [],
   "source": [
    "def list2num(permutated_list):\n",
    "    num = 0\n",
    "    for i in range(7):\n",
    "        num += permutated_list[i]*10**(7-i)"
   ]
  },
  {
   "cell_type": "code",
   "execution_count": 18,
   "metadata": {},
   "outputs": [],
   "source": [
    "list7 = list(itertools.permutations(seq))\n",
    "int7 = [int(''.join([str(_) for _ in __])) for __ in list7] "
   ]
  },
  {
   "cell_type": "code",
   "execution_count": 19,
   "metadata": {},
   "outputs": [
    {
     "name": "stdout",
     "output_type": "stream",
     "text": [
      "7652413\n"
     ]
    }
   ],
   "source": [
    "for i in int7:\n",
    "    if isprime(i):\n",
    "        print(i)\n",
    "        break"
   ]
  },
  {
   "cell_type": "markdown",
   "metadata": {},
   "source": [
    "## [Problem 42](https://projecteuler.net/problem=42)\n",
    "Coded triangle numbers"
   ]
  },
  {
   "cell_type": "code",
   "execution_count": 33,
   "metadata": {},
   "outputs": [],
   "source": [
    "import csv,string\n",
    "\n",
    "f = open('./data/p042.txt', \"r\")\n",
    "file = list(csv.reader(f))[0]"
   ]
  },
  {
   "cell_type": "code",
   "execution_count": 34,
   "metadata": {},
   "outputs": [],
   "source": [
    "def word2num(word):\n",
    "    counter = 0\n",
    "    for alphabet in word:\n",
    "        counter += string.ascii_uppercase.index(alphabet)+1\n",
    "    return counter"
   ]
  },
  {
   "cell_type": "code",
   "execution_count": 35,
   "metadata": {},
   "outputs": [],
   "source": [
    "num_list = [word2num(word) for word in file]    "
   ]
  },
  {
   "cell_type": "code",
   "execution_count": 36,
   "metadata": {},
   "outputs": [],
   "source": [
    "triangle_list = [int(n*(n+1)/2) for n in range(1,20)]"
   ]
  },
  {
   "cell_type": "code",
   "execution_count": 37,
   "metadata": {},
   "outputs": [
    {
     "data": {
      "text/plain": [
       "162"
      ]
     },
     "execution_count": 37,
     "metadata": {},
     "output_type": "execute_result"
    }
   ],
   "source": [
    "counter = 0\n",
    "for num in num_list:\n",
    "    if [num] == list(set([num]) & set(triangle_list)):\n",
    "        counter += 1\n",
    "counter"
   ]
  },
  {
   "cell_type": "markdown",
   "metadata": {},
   "source": [
    "## [Problem 43](https://projecteuler.net/problem=43)\n",
    "Sub-string divisibility"
   ]
  },
  {
   "cell_type": "code",
   "execution_count": 38,
   "metadata": {},
   "outputs": [
    {
     "data": {
      "text/plain": [
       "[17,\n",
       " 34,\n",
       " 51,\n",
       " 68,\n",
       " 85,\n",
       " 102,\n",
       " 119,\n",
       " 136,\n",
       " 153,\n",
       " 170,\n",
       " 187,\n",
       " 204,\n",
       " 221,\n",
       " 238,\n",
       " 255,\n",
       " 272,\n",
       " 289,\n",
       " 306,\n",
       " 323,\n",
       " 340,\n",
       " 357,\n",
       " 374,\n",
       " 391,\n",
       " 408,\n",
       " 425,\n",
       " 442,\n",
       " 459,\n",
       " 476,\n",
       " 493,\n",
       " 510,\n",
       " 527,\n",
       " 544,\n",
       " 561,\n",
       " 578,\n",
       " 595,\n",
       " 612,\n",
       " 629,\n",
       " 646,\n",
       " 663,\n",
       " 680,\n",
       " 697,\n",
       " 714,\n",
       " 731,\n",
       " 748,\n",
       " 765,\n",
       " 782,\n",
       " 799,\n",
       " 816,\n",
       " 833,\n",
       " 850,\n",
       " 867,\n",
       " 884,\n",
       " 901,\n",
       " 918,\n",
       " 935,\n",
       " 952,\n",
       " 969,\n",
       " 986,\n",
       " 1003]"
      ]
     },
     "execution_count": 38,
     "metadata": {},
     "output_type": "execute_result"
    }
   ],
   "source": [
    "[i*17 for i in range(1,60)]"
   ]
  },
  {
   "cell_type": "code",
   "execution_count": null,
   "metadata": {},
   "outputs": [],
   "source": []
  }
 ],
 "metadata": {
  "kernelspec": {
   "display_name": "Python 3",
   "language": "python",
   "name": "python3"
  },
  "language_info": {
   "codemirror_mode": {
    "name": "ipython",
    "version": 3
   },
   "file_extension": ".py",
   "mimetype": "text/x-python",
   "name": "python",
   "nbconvert_exporter": "python",
   "pygments_lexer": "ipython3",
   "version": "3.6.5"
  }
 },
 "nbformat": 4,
 "nbformat_minor": 2
}
