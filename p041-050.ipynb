{
 "cells": [
  {
   "cell_type": "markdown",
   "metadata": {},
   "source": [
    "## [Problem 41](https://projecteuler.net/problem=41)\n",
    "Pandigital prime"
   ]
  },
  {
   "cell_type": "code",
   "execution_count": 16,
   "metadata": {},
   "outputs": [],
   "source": [
    "import itertools\n",
    "from sympy import isprime\n",
    "seq = [7,6,5,4,3,2,1]"
   ]
  },
  {
   "cell_type": "code",
   "execution_count": 17,
   "metadata": {},
   "outputs": [],
   "source": [
    "def list2num(permutated_list):\n",
    "    num = 0\n",
    "    for i in range(7):\n",
    "        num += permutated_list[i]*10**(7-i)"
   ]
  },
  {
   "cell_type": "code",
   "execution_count": 18,
   "metadata": {},
   "outputs": [],
   "source": [
    "list7 = list(itertools.permutations(seq))\n",
    "int7 = [int(''.join([str(_) for _ in __])) for __ in list7] "
   ]
  },
  {
   "cell_type": "code",
   "execution_count": 19,
   "metadata": {},
   "outputs": [
    {
     "name": "stdout",
     "output_type": "stream",
     "text": [
      "7652413\n"
     ]
    }
   ],
   "source": [
    "for i in int7:\n",
    "    if isprime(i):\n",
    "        print(i)\n",
    "        break"
   ]
  },
  {
   "cell_type": "markdown",
   "metadata": {},
   "source": [
    "## [Problem 42](https://projecteuler.net/problem=42)\n",
    "Coded triangle numbers"
   ]
  },
  {
   "cell_type": "code",
   "execution_count": 33,
   "metadata": {},
   "outputs": [],
   "source": [
    "import csv,string\n",
    "\n",
    "f = open('./data/p042.txt', \"r\")\n",
    "file = list(csv.reader(f))[0]"
   ]
  },
  {
   "cell_type": "code",
   "execution_count": 34,
   "metadata": {},
   "outputs": [],
   "source": [
    "def word2num(word):\n",
    "    counter = 0\n",
    "    for alphabet in word:\n",
    "        counter += string.ascii_uppercase.index(alphabet)+1\n",
    "    return counter"
   ]
  },
  {
   "cell_type": "code",
   "execution_count": 35,
   "metadata": {},
   "outputs": [],
   "source": [
    "num_list = [word2num(word) for word in file]    "
   ]
  },
  {
   "cell_type": "code",
   "execution_count": 36,
   "metadata": {},
   "outputs": [],
   "source": [
    "triangle_list = [int(n*(n+1)/2) for n in range(1,20)]"
   ]
  },
  {
   "cell_type": "code",
   "execution_count": 37,
   "metadata": {},
   "outputs": [
    {
     "data": {
      "text/plain": [
       "162"
      ]
     },
     "execution_count": 37,
     "metadata": {},
     "output_type": "execute_result"
    }
   ],
   "source": [
    "counter = 0\n",
    "for num in num_list:\n",
    "    if [num] == list(set([num]) & set(triangle_list)):\n",
    "        counter += 1\n",
    "counter"
   ]
  },
  {
   "cell_type": "markdown",
   "metadata": {},
   "source": [
    "## [Problem 43](https://projecteuler.net/problem=43)\n",
    "Sub-string divisibility"
   ]
  },
  {
   "cell_type": "code",
   "execution_count": 46,
   "metadata": {},
   "outputs": [],
   "source": [
    "import copy\n",
    "ten_str={str(i) for i in range(10)}"
   ]
  },
  {
   "cell_type": "code",
   "execution_count": 57,
   "metadata": {},
   "outputs": [],
   "source": [
    "pandigital_numbers=[]\n",
    "tmps=[]\n",
    "for i in range(1,59):\n",
    "    num=str(i*17).zfill(3)\n",
    "    if len(set(num))==3:\n",
    "        pandigital_numbers.append(num)\n",
    "\n",
    "for x in [13,11,7,5,3,2]:\n",
    "    tmps=[]\n",
    "    for num in pandigital_numbers:\n",
    "        for i in ten_str-set(num):\n",
    "            tmp=str(i)+num\n",
    "            if int(tmp[:3])%x==0:\n",
    "                tmps.append(tmp)\n",
    "    pandigital_numbers=copy.copy(tmps)\n",
    "\n",
    "\n",
    "pandigital_numbers=[str(list(ten_str-set(num))[0])+num for num in pandigital_numbers]"
   ]
  },
  {
   "cell_type": "code",
   "execution_count": 59,
   "metadata": {},
   "outputs": [
    {
     "name": "stdout",
     "output_type": "stream",
     "text": [
      "16695334890\n"
     ]
    }
   ],
   "source": [
    "sum_pandigital=0\n",
    "for num in pandigital_numbers:\n",
    "    sum_pandigital+=int(num)\n",
    "print(sum_pandigital)"
   ]
  },
  {
   "cell_type": "markdown",
   "metadata": {},
   "source": [
    "## [Problem 44](https://projecteuler.net/problem=44)\n",
    "Pentagon numbers"
   ]
  },
  {
   "cell_type": "code",
   "execution_count": 120,
   "metadata": {},
   "outputs": [],
   "source": [
    "import numpy as np\n",
    "from tqdm import tqdm"
   ]
  },
  {
   "cell_type": "code",
   "execution_count": 139,
   "metadata": {},
   "outputs": [],
   "source": [
    "def p(n):\n",
    "    return int(n*(3*n-1)/2)\n",
    "\n",
    "def factorize(n):\n",
    "    answer=[]\n",
    "    max_factor=int(np.sqrt(n))\n",
    "    for i in range(1,max_factor+1):\n",
    "        if n%i==0:\n",
    "            answer.append([i,n//i])\n",
    "    return answer\n",
    "\n",
    "def check_squred(n):\n",
    "    m=int(np.sqrt(n))\n",
    "    if m-n/m==0.0:\n",
    "        return True\n",
    "    else:\n",
    "        return False\n",
    "\n",
    "def jk_list_from_m(m):\n",
    "    jk_list=[]\n",
    "    n=3*m*m-m\n",
    "    factors=factorize(n)\n",
    "    for factor in factors:\n",
    "        q,p=factor\n",
    "        j,k=int(((p+1)/3+q)/2),int(((p+1)/3-q)/2)\n",
    "        if 3*(j*j-k*k)-j+k==n and k>0:\n",
    "            jk_list.append([j,k])\n",
    "    return jk_list\n",
    "\n",
    "def check_valid_jk(jk):\n",
    "    j,k=jk\n",
    "    n=3*(j*j+k*k)-j-k\n",
    "    l=int((1+np.sqrt(1+12*n))/6)\n",
    "    if 3*l*l-l-n==0:\n",
    "        return True\n",
    "    else:\n",
    "        return False"
   ]
  },
  {
   "cell_type": "code",
   "execution_count": 142,
   "metadata": {},
   "outputs": [
    {
     "name": "stderr",
     "output_type": "stream",
     "text": [
      " 46%|████▌     | 2287/4999 [00:00<00:00, 3221.80it/s]"
     ]
    },
    {
     "name": "stdout",
     "output_type": "stream",
     "text": [
      "1912 5482660\n"
     ]
    },
    {
     "name": "stderr",
     "output_type": "stream",
     "text": [
      "100%|██████████| 4999/4999 [00:02<00:00, 2133.62it/s]\n"
     ]
    }
   ],
   "source": [
    "max_m=5000\n",
    "for m in tqdm(range(1,max_m)):\n",
    "    jk_list=jk_list_from_m(m)\n",
    "    for jk in jk_list:\n",
    "        if check_valid_jk(jk):\n",
    "            print(m,p(m))"
   ]
  },
  {
   "cell_type": "markdown",
   "metadata": {},
   "source": [
    "## [Problem 45](https://projecteuler.net/problem=45)\n",
    "Triangular, pentagonal, and hexagonal"
   ]
  },
  {
   "cell_type": "code",
   "execution_count": 143,
   "metadata": {},
   "outputs": [],
   "source": [
    "import numpy as np\n",
    "from tqdm import tqdm"
   ]
  },
  {
   "cell_type": "code",
   "execution_count": 144,
   "metadata": {},
   "outputs": [],
   "source": [
    "def check_valid_n(n):\n",
    "    n=4*n*n-2*n\n",
    "    m=int((1+np.sqrt(1+12*n))/6)\n",
    "    if 3*m*m-m-n==0:\n",
    "        l=int((-1+np.sqrt(1+4*n))/2)\n",
    "        if l*l+l-n==0:\n",
    "            return True\n",
    "        else:\n",
    "            return False\n",
    "    else:\n",
    "        return False"
   ]
  },
  {
   "cell_type": "code",
   "execution_count": 150,
   "metadata": {},
   "outputs": [
    {
     "name": "stderr",
     "output_type": "stream",
     "text": [
      " 37%|███▋      | 36701/99999 [00:00<00:00, 180175.55it/s]"
     ]
    },
    {
     "name": "stdout",
     "output_type": "stream",
     "text": [
      "1 1\n",
      "143 40755\n",
      "27693 1533776805\n"
     ]
    },
    {
     "name": "stderr",
     "output_type": "stream",
     "text": [
      "100%|██████████| 99999/99999 [00:00<00:00, 199493.64it/s]\n"
     ]
    }
   ],
   "source": [
    "max_n=100000\n",
    "for n in tqdm(range(1,max_n)):\n",
    "    if check_valid_n(n):\n",
    "        print(n,2*n*n-n)"
   ]
  },
  {
   "cell_type": "markdown",
   "metadata": {},
   "source": [
    "## [Problem 46](https://projecteuler.net/problem=46)\n",
    "Goldbach's other conjecture"
   ]
  },
  {
   "cell_type": "code",
   "execution_count": 1,
   "metadata": {},
   "outputs": [],
   "source": [
    "from sympy import sieve\n",
    "import numpy as np\n",
    "from itertools import product\n",
    "from tqdm import tqdm"
   ]
  },
  {
   "cell_type": "code",
   "execution_count": 2,
   "metadata": {},
   "outputs": [
    {
     "name": "stderr",
     "output_type": "stream",
     "text": [
      "100%|██████████| 99998/99998 [00:06<00:00, 15029.80it/s]\n"
     ]
    }
   ],
   "source": [
    "max_num=10**5\n",
    "goldbach_conjecture_list=[i for i in tqdm(range(2,max_num)) if i not in sieve and i%2==1]"
   ]
  },
  {
   "cell_type": "code",
   "execution_count": 3,
   "metadata": {},
   "outputs": [
    {
     "name": "stderr",
     "output_type": "stream",
     "text": [
      "  5%|▌         | 2104/40408 [00:02<01:44, 365.06it/s]"
     ]
    },
    {
     "name": "stdout",
     "output_type": "stream",
     "text": [
      "5777\n"
     ]
    },
    {
     "name": "stderr",
     "output_type": "stream",
     "text": [
      "\n"
     ]
    }
   ],
   "source": [
    "for goldbach_conjecture in tqdm(goldbach_conjecture_list):\n",
    "    max_square_root=int(np.sqrt(goldbach_conjecture/2))\n",
    "    check_prime_list=[goldbach_conjecture-2*i*i for i in range(1,max_square_root+1)]\n",
    "    check_list=[num in sieve for num in check_prime_list]\n",
    "    check={False}==set(check_list)\n",
    "    if check:\n",
    "        print(goldbach_conjecture)\n",
    "        break"
   ]
  },
  {
   "cell_type": "markdown",
   "metadata": {},
   "source": [
    "## [Problem 47](https://projecteuler.net/problem=47)\n",
    "Distinct primes factors"
   ]
  },
  {
   "cell_type": "code",
   "execution_count": 5,
   "metadata": {},
   "outputs": [],
   "source": [
    "from sympy import factorint"
   ]
  },
  {
   "cell_type": "code",
   "execution_count": 22,
   "metadata": {},
   "outputs": [],
   "source": [
    "def len_factor(n):\n",
    "    return len(list(factorint(n).keys()))"
   ]
  },
  {
   "cell_type": "code",
   "execution_count": 24,
   "metadata": {},
   "outputs": [],
   "source": [
    "n=210\n",
    "flag=True\n",
    "while flag:\n",
    "    four_nums=[n,n+1,n+2,n+3]\n",
    "    prime_nums=[len_factor(n) for n in four_nums]\n",
    "    flag=False\n",
    "    for i in range(4):\n",
    "        if prime_nums[i]!=4:\n",
    "            flag=True\n",
    "            n=four_nums[i]+1\n",
    "            continue"
   ]
  },
  {
   "cell_type": "code",
   "execution_count": 27,
   "metadata": {},
   "outputs": [
    {
     "data": {
      "text/plain": [
       "(134043, [4, 4, 4, 4])"
      ]
     },
     "execution_count": 27,
     "metadata": {},
     "output_type": "execute_result"
    }
   ],
   "source": [
    "n,prime_nums"
   ]
  },
  {
   "cell_type": "markdown",
   "metadata": {},
   "source": [
    "## [Problem 48](https://projecteuler.net/problem=48)\n",
    "Self powers"
   ]
  },
  {
   "cell_type": "code",
   "execution_count": 28,
   "metadata": {},
   "outputs": [],
   "source": [
    "from scipy.special import comb"
   ]
  },
  {
   "cell_type": "code",
   "execution_count": 47,
   "metadata": {},
   "outputs": [],
   "source": [
    "answer=0\n",
    "for i in range(1,11):\n",
    "    answer+=i**i\n",
    "for i in range(11,1001):\n",
    "    x=i-10\n",
    "    for k in range(10):\n",
    "        answer+=(10**k)*(x**(i-k))*comb(i,k,True)"
   ]
  },
  {
   "cell_type": "code",
   "execution_count": 49,
   "metadata": {},
   "outputs": [
    {
     "data": {
      "text/plain": [
       "9110846700"
      ]
     },
     "execution_count": 49,
     "metadata": {},
     "output_type": "execute_result"
    }
   ],
   "source": [
    "answer%10**10"
   ]
  },
  {
   "cell_type": "markdown",
   "metadata": {},
   "source": [
    "## [Problem 49](https://projecteuler.net/problem=49)\n",
    "Prime permutations"
   ]
  },
  {
   "cell_type": "code",
   "execution_count": 89,
   "metadata": {},
   "outputs": [],
   "source": [
    "from sympy import sieve\n",
    "from itertools import permutations\n",
    "from itertools import combinations\n",
    "from tqdm import tqdm\n",
    "import numpy as np\n",
    "from copy import copy"
   ]
  },
  {
   "cell_type": "code",
   "execution_count": 115,
   "metadata": {},
   "outputs": [],
   "source": [
    "def permutate_num(n):\n",
    "    nums=[]\n",
    "    for xs in permutations(str(n)):\n",
    "        num=''\n",
    "        for x in xs:\n",
    "            num+=x\n",
    "        nums.append(int(num))\n",
    "    return nums\n",
    "\n",
    "def increases(num_list):\n",
    "    n=len(num_list)\n",
    "    for i,j,k in combinations(range(n),3):\n",
    "        if num_list[k]-num_list[j]==num_list[j]-num_list[i]:\n",
    "            print(str(num_list[i])+str(num_list[j])+str(num_list[k]))"
   ]
  },
  {
   "cell_type": "code",
   "execution_count": 116,
   "metadata": {},
   "outputs": [],
   "source": [
    "prime_list=list(sieve.primerange(10**3,10**4))\n",
    "prime_set=set(prime_list)"
   ]
  },
  {
   "cell_type": "code",
   "execution_count": 117,
   "metadata": {},
   "outputs": [
    {
     "name": "stderr",
     "output_type": "stream",
     "text": [
      "100%|██████████| 1061/1061 [00:00<00:00, 1143.42it/s]\n"
     ]
    }
   ],
   "source": [
    "possibly_permutation=[]\n",
    "for prime in tqdm(prime_list):\n",
    "    permutate_list=permutate_num(prime)\n",
    "    permutate_prime_list=list(sorted(list(set([x for x in permutate_list if x in set(prime_list)]))))\n",
    "    if len(permutate_prime_list)>2:\n",
    "        possibly_permutation.append(permutate_prime_list)"
   ]
  },
  {
   "cell_type": "code",
   "execution_count": 118,
   "metadata": {},
   "outputs": [],
   "source": [
    "permutation_list=[]\n",
    "for nums in possibly_permutation:\n",
    "    if nums not in permutation_list:\n",
    "        permutation_list.append(nums)"
   ]
  },
  {
   "cell_type": "code",
   "execution_count": 119,
   "metadata": {},
   "outputs": [
    {
     "name": "stderr",
     "output_type": "stream",
     "text": [
      "100%|██████████| 174/174 [00:00<00:00, 20055.20it/s]"
     ]
    },
    {
     "name": "stdout",
     "output_type": "stream",
     "text": [
      "148748178147\n",
      "296962999629\n"
     ]
    },
    {
     "name": "stderr",
     "output_type": "stream",
     "text": [
      "\n"
     ]
    }
   ],
   "source": [
    "for permutation in tqdm(permutation_list):\n",
    "    increases(permutation)"
   ]
  },
  {
   "cell_type": "markdown",
   "metadata": {},
   "source": [
    "## [Problem 50](https://projecteuler.net/problem=50)\n",
    "Consecutive prime sum"
   ]
  },
  {
   "cell_type": "code",
   "execution_count": null,
   "metadata": {},
   "outputs": [],
   "source": []
  }
 ],
 "metadata": {
  "kernelspec": {
   "display_name": "Python 3",
   "language": "python3",
   "name": "python3"
  },
  "language_info": {
   "codemirror_mode": {
    "name": "ipython",
    "version": 3
   },
   "file_extension": ".py",
   "mimetype": "text/x-python",
   "name": "python",
   "nbconvert_exporter": "python",
   "pygments_lexer": "ipython3",
   "version": "3.7.3"
  }
 },
 "nbformat": 4,
 "nbformat_minor": 2
}
