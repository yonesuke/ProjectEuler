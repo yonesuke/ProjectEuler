{
 "cells": [
  {
   "cell_type": "markdown",
   "metadata": {},
   "source": [
    "## [Problem 41](https://projecteuler.net/problem=41)\n",
    "Pandigital prime"
   ]
  },
  {
   "cell_type": "code",
   "execution_count": 16,
   "metadata": {},
   "outputs": [],
   "source": [
    "import itertools\n",
    "from sympy import isprime\n",
    "seq = [7,6,5,4,3,2,1]"
   ]
  },
  {
   "cell_type": "code",
   "execution_count": 17,
   "metadata": {},
   "outputs": [],
   "source": [
    "def list2num(permutated_list):\n",
    "    num = 0\n",
    "    for i in range(7):\n",
    "        num += permutated_list[i]*10**(7-i)"
   ]
  },
  {
   "cell_type": "code",
   "execution_count": 18,
   "metadata": {},
   "outputs": [],
   "source": [
    "list7 = list(itertools.permutations(seq))\n",
    "int7 = [int(''.join([str(_) for _ in __])) for __ in list7] "
   ]
  },
  {
   "cell_type": "code",
   "execution_count": 19,
   "metadata": {},
   "outputs": [
    {
     "name": "stdout",
     "output_type": "stream",
     "text": [
      "7652413\n"
     ]
    }
   ],
   "source": [
    "for i in int7:\n",
    "    if isprime(i):\n",
    "        print(i)\n",
    "        break"
   ]
  },
  {
   "cell_type": "markdown",
   "metadata": {},
   "source": [
    "## [Problem 42](https://projecteuler.net/problem=42)\n",
    "Coded triangle numbers"
   ]
  },
  {
   "cell_type": "code",
   "execution_count": 33,
   "metadata": {},
   "outputs": [],
   "source": [
    "import csv,string\n",
    "\n",
    "f = open('./data/p042.txt', \"r\")\n",
    "file = list(csv.reader(f))[0]"
   ]
  },
  {
   "cell_type": "code",
   "execution_count": 34,
   "metadata": {},
   "outputs": [],
   "source": [
    "def word2num(word):\n",
    "    counter = 0\n",
    "    for alphabet in word:\n",
    "        counter += string.ascii_uppercase.index(alphabet)+1\n",
    "    return counter"
   ]
  },
  {
   "cell_type": "code",
   "execution_count": 35,
   "metadata": {},
   "outputs": [],
   "source": [
    "num_list = [word2num(word) for word in file]    "
   ]
  },
  {
   "cell_type": "code",
   "execution_count": 36,
   "metadata": {},
   "outputs": [],
   "source": [
    "triangle_list = [int(n*(n+1)/2) for n in range(1,20)]"
   ]
  },
  {
   "cell_type": "code",
   "execution_count": 37,
   "metadata": {},
   "outputs": [
    {
     "data": {
      "text/plain": [
       "162"
      ]
     },
     "execution_count": 37,
     "metadata": {},
     "output_type": "execute_result"
    }
   ],
   "source": [
    "counter = 0\n",
    "for num in num_list:\n",
    "    if [num] == list(set([num]) & set(triangle_list)):\n",
    "        counter += 1\n",
    "counter"
   ]
  },
  {
   "cell_type": "markdown",
   "metadata": {},
   "source": [
    "## [Problem 43](https://projecteuler.net/problem=43)\n",
    "Sub-string divisibility"
   ]
  },
  {
   "cell_type": "code",
   "execution_count": 46,
   "metadata": {},
   "outputs": [],
   "source": [
    "import copy\n",
    "ten_str={str(i) for i in range(10)}"
   ]
  },
  {
   "cell_type": "code",
   "execution_count": 57,
   "metadata": {},
   "outputs": [],
   "source": [
    "pandigital_numbers=[]\n",
    "tmps=[]\n",
    "for i in range(1,59):\n",
    "    num=str(i*17).zfill(3)\n",
    "    if len(set(num))==3:\n",
    "        pandigital_numbers.append(num)\n",
    "\n",
    "for x in [13,11,7,5,3,2]:\n",
    "    tmps=[]\n",
    "    for num in pandigital_numbers:\n",
    "        for i in ten_str-set(num):\n",
    "            tmp=str(i)+num\n",
    "            if int(tmp[:3])%x==0:\n",
    "                tmps.append(tmp)\n",
    "    pandigital_numbers=copy.copy(tmps)\n",
    "\n",
    "\n",
    "pandigital_numbers=[str(list(ten_str-set(num))[0])+num for num in pandigital_numbers]"
   ]
  },
  {
   "cell_type": "code",
   "execution_count": 59,
   "metadata": {},
   "outputs": [
    {
     "name": "stdout",
     "output_type": "stream",
     "text": [
      "16695334890\n"
     ]
    }
   ],
   "source": [
    "sum_pandigital=0\n",
    "for num in pandigital_numbers:\n",
    "    sum_pandigital+=int(num)\n",
    "print(sum_pandigital)"
   ]
  },
  {
   "cell_type": "markdown",
   "metadata": {},
   "source": [
    "## [Problem 44](https://projecteuler.net/problem=44)\n",
    "Pentagon numbers"
   ]
  },
  {
   "cell_type": "code",
   "execution_count": 120,
   "metadata": {},
   "outputs": [],
   "source": [
    "import numpy as np\n",
    "from tqdm import tqdm"
   ]
  },
  {
   "cell_type": "code",
   "execution_count": 139,
   "metadata": {},
   "outputs": [],
   "source": [
    "def p(n):\n",
    "    return int(n*(3*n-1)/2)\n",
    "\n",
    "def factorize(n):\n",
    "    answer=[]\n",
    "    max_factor=int(np.sqrt(n))\n",
    "    for i in range(1,max_factor+1):\n",
    "        if n%i==0:\n",
    "            answer.append([i,n//i])\n",
    "    return answer\n",
    "\n",
    "def check_squred(n):\n",
    "    m=int(np.sqrt(n))\n",
    "    if m-n/m==0.0:\n",
    "        return True\n",
    "    else:\n",
    "        return False\n",
    "\n",
    "def jk_list_from_m(m):\n",
    "    jk_list=[]\n",
    "    n=3*m*m-m\n",
    "    factors=factorize(n)\n",
    "    for factor in factors:\n",
    "        q,p=factor\n",
    "        j,k=int(((p+1)/3+q)/2),int(((p+1)/3-q)/2)\n",
    "        if 3*(j*j-k*k)-j+k==n and k>0:\n",
    "            jk_list.append([j,k])\n",
    "    return jk_list\n",
    "\n",
    "def check_valid_jk(jk):\n",
    "    j,k=jk\n",
    "    n=3*(j*j+k*k)-j-k\n",
    "    l=int((1+np.sqrt(1+12*n))/6)\n",
    "    if 3*l*l-l-n==0:\n",
    "        return True\n",
    "    else:\n",
    "        return False"
   ]
  },
  {
   "cell_type": "code",
   "execution_count": 142,
   "metadata": {},
   "outputs": [
    {
     "name": "stderr",
     "output_type": "stream",
     "text": [
      " 46%|████▌     | 2287/4999 [00:00<00:00, 3221.80it/s]"
     ]
    },
    {
     "name": "stdout",
     "output_type": "stream",
     "text": [
      "1912 5482660\n"
     ]
    },
    {
     "name": "stderr",
     "output_type": "stream",
     "text": [
      "100%|██████████| 4999/4999 [00:02<00:00, 2133.62it/s]\n"
     ]
    }
   ],
   "source": [
    "max_m=5000\n",
    "for m in tqdm(range(1,max_m)):\n",
    "    jk_list=jk_list_from_m(m)\n",
    "    for jk in jk_list:\n",
    "        if check_valid_jk(jk):\n",
    "            print(m,p(m))"
   ]
  },
  {
   "cell_type": "markdown",
   "metadata": {},
   "source": [
    "## [Problem 45](https://projecteuler.net/problem=45)\n",
    "Triangular, pentagonal, and hexagonal"
   ]
  },
  {
   "cell_type": "code",
   "execution_count": 143,
   "metadata": {},
   "outputs": [],
   "source": [
    "import numpy as np\n",
    "from tqdm import tqdm"
   ]
  },
  {
   "cell_type": "code",
   "execution_count": 144,
   "metadata": {},
   "outputs": [],
   "source": [
    "def check_valid_n(n):\n",
    "    n=4*n*n-2*n\n",
    "    m=int((1+np.sqrt(1+12*n))/6)\n",
    "    if 3*m*m-m-n==0:\n",
    "        l=int((-1+np.sqrt(1+4*n))/2)\n",
    "        if l*l+l-n==0:\n",
    "            return True\n",
    "        else:\n",
    "            return False\n",
    "    else:\n",
    "        return False"
   ]
  },
  {
   "cell_type": "code",
   "execution_count": 150,
   "metadata": {},
   "outputs": [
    {
     "name": "stderr",
     "output_type": "stream",
     "text": [
      " 37%|███▋      | 36701/99999 [00:00<00:00, 180175.55it/s]"
     ]
    },
    {
     "name": "stdout",
     "output_type": "stream",
     "text": [
      "1 1\n",
      "143 40755\n",
      "27693 1533776805\n"
     ]
    },
    {
     "name": "stderr",
     "output_type": "stream",
     "text": [
      "100%|██████████| 99999/99999 [00:00<00:00, 199493.64it/s]\n"
     ]
    }
   ],
   "source": [
    "max_n=100000\n",
    "for n in tqdm(range(1,max_n)):\n",
    "    if check_valid_n(n):\n",
    "        print(n,2*n*n-n)"
   ]
  },
  {
   "cell_type": "markdown",
   "metadata": {},
   "source": [
    "## [Problem 46](https://projecteuler.net/problem=46)\n",
    "Goldbach's other conjecture"
   ]
  },
  {
   "cell_type": "code",
   "execution_count": null,
   "metadata": {},
   "outputs": [],
   "source": []
  }
 ],
 "metadata": {
  "kernelspec": {
   "display_name": "Python 3",
   "language": "python3",
   "name": "python3"
  },
  "language_info": {
   "codemirror_mode": {
    "name": "ipython",
    "version": 3
   },
   "file_extension": ".py",
   "mimetype": "text/x-python",
   "name": "python",
   "nbconvert_exporter": "python",
   "pygments_lexer": "ipython3",
   "version": "3.7.3"
  }
 },
 "nbformat": 4,
 "nbformat_minor": 2
}
